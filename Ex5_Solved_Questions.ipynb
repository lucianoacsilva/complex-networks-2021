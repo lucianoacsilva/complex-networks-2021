{
 "cells": [
  {
   "cell_type": "markdown",
   "metadata": {},
   "source": [
    "# Exercício 5 - SME0130 - Redes Complexas"
   ]
  },
  {
   "cell_type": "markdown",
   "metadata": {},
   "source": [
    "### Aluno: Luciano Augusto Campagnoli da Silva\n",
    "### Número USP: 9313367"
   ]
  },
  {
   "cell_type": "markdown",
   "metadata": {},
   "source": [
    "Importar bibliotecas."
   ]
  },
  {
   "cell_type": "code",
   "execution_count": 3,
   "metadata": {},
   "outputs": [],
   "source": [
    "from numpy  import *\n",
    "from scipy import stats\n",
    "import numpy as np\n",
    "import matplotlib.pyplot as plt\n",
    "import networkx as nx\n",
    "import community as community_louvain\n",
    "\n",
    "np.random.seed(100)"
   ]
  },
  {
   "cell_type": "markdown",
   "metadata": {},
   "source": [
    "## Questão 1"
   ]
  },
  {
   "cell_type": "markdown",
   "metadata": {},
   "source": [
    "Gerar grafo aleatório no modelo Erdos-Renyi."
   ]
  },
  {
   "cell_type": "code",
   "execution_count": 3,
   "metadata": {},
   "outputs": [],
   "source": [
    "N = 1000\n",
    "p = 0.1\n",
    "av_degree = p * (N - 1)\n",
    "GER = nx.gnp_random_graph(N, p, seed=None, directed=False)"
   ]
  },
  {
   "cell_type": "markdown",
   "metadata": {},
   "source": [
    "Distribuição de grau."
   ]
  },
  {
   "cell_type": "code",
   "execution_count": 1,
   "metadata": {},
   "outputs": [],
   "source": [
    "def degree_distribution(GER):\n",
    "    vk = dict(GER.degree())\n",
    "    vk = list(vk.values()) # we get only the degree values\n",
    "    maxk = np.max(vk)\n",
    "    mink = np.min(min)\n",
    "    kvalues= arange(0,maxk+1) # possible values of k\n",
    "    Pk = np.zeros(maxk+1) # P(k)\n",
    "    for k in vk:\n",
    "        Pk[k] = Pk[k] + 1\n",
    "    Pk = Pk/sum(Pk) # the sum of the elements of P(k) must to be equal to one\n",
    "    return kvalues,Pk"
   ]
  },
  {
   "cell_type": "code",
   "execution_count": 7,
   "metadata": {},
   "outputs": [],
   "source": [
    "ks, Pk = degree_distribution(GER)"
   ]
  },
  {
   "cell_type": "code",
   "execution_count": 8,
   "metadata": {},
   "outputs": [
    {
     "data": {
      "image/png": "[encoded data removed]",
      "text/plain": [
       "<Figure size 576x432 with 1 Axes>"
      ]
     },
     "metadata": {
      "needs_background": "light"
     },
     "output_type": "display_data"
    }
   ],
   "source": [
    "plt.figure(figsize=(8,6))\n",
    "plt.plot(ks,Pk,'bo', label='Data')\n",
    "plt.xlabel(\"k\", fontsize=20)\n",
    "plt.ylabel(\"P(k)\", fontsize=20)\n",
    "plt.title(\"Degree distribution\", fontsize=20)\n",
    "plt.grid(True)\n",
    "plt.savefig('degree_dist.eps') #save the figure into a file\n",
    "\n",
    "## Fitting of. binomial distribution\n",
    "from scipy.stats import binom\n",
    "pk = binom.pmf(ks, N, p)\n",
    "plt.plot(ks, pk, 'r', label='Binomial distribution')\n",
    "plt.legend()\n",
    "plt.show(True)"
   ]
  },
  {
   "cell_type": "markdown",
   "metadata": {},
   "source": [
    "Segundo momento de distribuição de grau."
   ]
  },
  {
   "cell_type": "code",
   "execution_count": 2,
   "metadata": {},
   "outputs": [],
   "source": [
    "def momment_of_degree_distribution(G,m):\n",
    "    k,Pk = degree_distribution(G)\n",
    "    M = sum((k**m)*Pk)\n",
    "    return M"
   ]
  },
  {
   "cell_type": "code",
   "execution_count": 10,
   "metadata": {},
   "outputs": [
    {
     "name": "stdout",
     "output_type": "stream",
     "text": [
      "Second momment of P(k): 9976.292\n"
     ]
    }
   ],
   "source": [
    "k2 = momment_of_degree_distribution(GER,2)\n",
    "print('Second momment of P(k):', k2)"
   ]
  },
  {
   "cell_type": "markdown",
   "metadata": {},
   "source": [
    "Coeficiente de aglomeração médio."
   ]
  },
  {
   "cell_type": "code",
   "execution_count": 11,
   "metadata": {},
   "outputs": [
    {
     "name": "stdout",
     "output_type": "stream",
     "text": [
      "Average clustering: 0.0991 |p =  0.1\n"
     ]
    }
   ],
   "source": [
    "avc = nx.average_clustering(GER)\n",
    "print(\"Average clustering:\", \"%3.4f\"%avc, '|p = ', p)"
   ]
  },
  {
   "cell_type": "markdown",
   "metadata": {},
   "source": [
    "Alternativa correta: **a**."
   ]
  },
  {
   "cell_type": "markdown",
   "metadata": {},
   "source": [
    "## Questão 2"
   ]
  },
  {
   "cell_type": "markdown",
   "metadata": {},
   "source": [
    "Rede *small-world*."
   ]
  },
  {
   "cell_type": "code",
   "execution_count": 92,
   "metadata": {},
   "outputs": [],
   "source": [
    "N = 1000\n",
    "av_degree = 10\n",
    "k = int(av_degree)\n",
    "p = 0.1 #probability of rewiring\n",
    "GWS = nx.watts_strogatz_graph(N, k, p, seed=None)\n"
   ]
  },
  {
   "cell_type": "markdown",
   "metadata": {},
   "source": [
    "Distribuição de grau."
   ]
  },
  {
   "cell_type": "code",
   "execution_count": 93,
   "metadata": {},
   "outputs": [],
   "source": [
    "ks, Pk = degree_distribution(GWS)"
   ]
  },
  {
   "cell_type": "markdown",
   "metadata": {},
   "source": [
    "Segundo momento da distribuição de grau."
   ]
  },
  {
   "cell_type": "code",
   "execution_count": 94,
   "metadata": {},
   "outputs": [
    {
     "name": "stdout",
     "output_type": "stream",
     "text": [
      "Second momment of P(k): 100.948\n"
     ]
    }
   ],
   "source": [
    "k2 = momment_of_degree_distribution(GWS,2)\n",
    "print('Second momment of P(k):', k2)"
   ]
  },
  {
   "cell_type": "markdown",
   "metadata": {},
   "source": [
    "Coeficiente de aglomeração médio."
   ]
  },
  {
   "cell_type": "code",
   "execution_count": 95,
   "metadata": {},
   "outputs": [
    {
     "name": "stdout",
     "output_type": "stream",
     "text": [
      "Average clustering: 0.4883 |p =  0.1\n"
     ]
    }
   ],
   "source": [
    "avc = nx.average_clustering(GWS)\n",
    "print(\"Average clustering:\", \"%3.4f\"%avc, '|p = ', p)"
   ]
  },
  {
   "cell_type": "markdown",
   "metadata": {},
   "source": [
    "Alternativa correta: **d**."
   ]
  },
  {
   "cell_type": "markdown",
   "metadata": {},
   "source": [
    "## Questão 3"
   ]
  },
  {
   "cell_type": "markdown",
   "metadata": {},
   "source": [
    "Rede aleatória Erdos-Reyni."
   ]
  },
  {
   "cell_type": "code",
   "execution_count": 1,
   "metadata": {},
   "outputs": [
    {
     "ename": "NameError",
     "evalue": "name 'nx' is not defined",
     "output_type": "error",
     "traceback": [
      "\u001b[0;31m---------------------------------------------------------------------------\u001b[0m",
      "\u001b[0;31mNameError\u001b[0m                                 Traceback (most recent call last)",
      "\u001b[0;32m<ipython-input-1-a350c97c661d>\u001b[0m in \u001b[0;36m<module>\u001b[0;34m\u001b[0m\n\u001b[1;32m      3\u001b[0m \u001b[0mp\u001b[0m \u001b[0;34m=\u001b[0m \u001b[0mav_degree\u001b[0m\u001b[0;34m/\u001b[0m \u001b[0;34m(\u001b[0m\u001b[0mN\u001b[0m \u001b[0;34m-\u001b[0m \u001b[0;36m1\u001b[0m\u001b[0;34m)\u001b[0m\u001b[0;34m\u001b[0m\u001b[0;34m\u001b[0m\u001b[0m\n\u001b[1;32m      4\u001b[0m \u001b[0;34m\u001b[0m\u001b[0m\n\u001b[0;32m----> 5\u001b[0;31m \u001b[0mGER\u001b[0m \u001b[0;34m=\u001b[0m \u001b[0mnx\u001b[0m\u001b[0;34m.\u001b[0m\u001b[0mgnp_random_graph\u001b[0m\u001b[0;34m(\u001b[0m\u001b[0mN\u001b[0m\u001b[0;34m,\u001b[0m \u001b[0mp\u001b[0m\u001b[0;34m,\u001b[0m \u001b[0mseed\u001b[0m\u001b[0;34m=\u001b[0m\u001b[0;32mNone\u001b[0m\u001b[0;34m,\u001b[0m \u001b[0mdirected\u001b[0m\u001b[0;34m=\u001b[0m\u001b[0;32mFalse\u001b[0m\u001b[0;34m)\u001b[0m\u001b[0;34m\u001b[0m\u001b[0;34m\u001b[0m\u001b[0m\n\u001b[0m",
      "\u001b[0;31mNameError\u001b[0m: name 'nx' is not defined"
     ]
    }
   ],
   "source": [
    "N = 1000\n",
    "av_degree = 5 \n",
    "p = av_degree/ (N - 1)\n",
    "\n",
    "GER = nx.gnp_random_graph(N, p, seed=None, directed=False)"
   ]
  },
  {
   "cell_type": "markdown",
   "metadata": {},
   "source": [
    "Entropia de Shannon."
   ]
  },
  {
   "cell_type": "code",
   "execution_count": 12,
   "metadata": {},
   "outputs": [],
   "source": [
    "def shannon_entropy(G):\n",
    "    k,Pk = degree_distribution(G)\n",
    "    H = 0\n",
    "    for p in Pk:\n",
    "        if(p > 0):\n",
    "            H = H - p*math.log(p, 2)\n",
    "    return H"
   ]
  },
  {
   "cell_type": "code",
   "execution_count": 13,
   "metadata": {},
   "outputs": [
    {
     "name": "stdout",
     "output_type": "stream",
     "text": [
      "Shannon Entropy =  5.1994\n"
     ]
    }
   ],
   "source": [
    "H = shannon_entropy(GER)\n",
    "print(\"Shannon Entropy = \", \"%3.4f\"%H)"
   ]
  },
  {
   "cell_type": "markdown",
   "metadata": {},
   "source": [
    "Rede aleatória grau médio = 10."
   ]
  },
  {
   "cell_type": "code",
   "execution_count": 14,
   "metadata": {},
   "outputs": [],
   "source": [
    "N = 1000\n",
    "av_degree = 10 \n",
    "p = av_degree/ (N - 1)\n",
    "\n",
    "GER = nx.gnp_random_graph(N, p, seed=None, directed=False)"
   ]
  },
  {
   "cell_type": "code",
   "execution_count": 15,
   "metadata": {},
   "outputs": [
    {
     "name": "stdout",
     "output_type": "stream",
     "text": [
      "Shannon Entropy =  3.7102\n"
     ]
    }
   ],
   "source": [
    "H = shannon_entropy(GER)\n",
    "print(\"Shannon Entropy = \", \"%3.4f\"%H)"
   ]
  },
  {
   "cell_type": "markdown",
   "metadata": {},
   "source": [
    "Rede aleatória grau médio = 50."
   ]
  },
  {
   "cell_type": "code",
   "execution_count": 24,
   "metadata": {},
   "outputs": [],
   "source": [
    "N = 1000\n",
    "av_degree = 50 \n",
    "p = av_degree/ (N - 1)\n",
    "\n",
    "GER = nx.gnp_random_graph(N, p, seed=None, directed=False)"
   ]
  },
  {
   "cell_type": "code",
   "execution_count": 25,
   "metadata": {},
   "outputs": [
    {
     "name": "stdout",
     "output_type": "stream",
     "text": [
      "Shannon Entropy =  4.8256\n"
     ]
    }
   ],
   "source": [
    "H = shannon_entropy(GER)\n",
    "print(\"Shannon Entropy = \", \"%3.4f\"%H)"
   ]
  },
  {
   "cell_type": "markdown",
   "metadata": {},
   "source": [
    "Alternativa correta: **d**."
   ]
  },
  {
   "cell_type": "markdown",
   "metadata": {},
   "source": [
    "## Questões 4"
   ]
  },
  {
   "cell_type": "markdown",
   "metadata": {},
   "source": [
    "Redes *small-world*."
   ]
  },
  {
   "cell_type": "markdown",
   "metadata": {},
   "source": [
    "### p = 0"
   ]
  },
  {
   "cell_type": "code",
   "execution_count": 96,
   "metadata": {},
   "outputs": [],
   "source": [
    "N = 100\n",
    "av_degree = 4\n",
    "k = int(av_degree)\n",
    "p = 0 #probability of rewiring\n",
    "GWS = nx.watts_strogatz_graph(N, k, p, seed=None)\n"
   ]
  },
  {
   "cell_type": "markdown",
   "metadata": {},
   "source": [
    "Menor distância média."
   ]
  },
  {
   "cell_type": "code",
   "execution_count": 97,
   "metadata": {},
   "outputs": [
    {
     "name": "stdout",
     "output_type": "stream",
     "text": [
      "Average shortest path length: 12.8788\n",
      "The predicted value is log(N)/log(average degree) 3.3219280948873626\n"
     ]
    }
   ],
   "source": [
    "if nx.is_connected(GWS) == True:\n",
    "    l = nx.average_shortest_path_length(GWS)\n",
    "    print(\"Average shortest path length:\", \"%3.4f\"%l)\n",
    "else:\n",
    "    Gcc=sorted(nx.connected_component_subgraphs(GWS), key = len, reverse=True)\n",
    "    G=Gcc[0]\n",
    "    print('We will use only the largest component')\n",
    "    N = len(GWS)\n",
    "    M = G.number_of_edges()\n",
    "    print('Number of nodes:', N)\n",
    "    print('Number of edges:', M)\n",
    "    print('Average degre:', 2*M/N)\n",
    "    l = nx.average_shortest_path_length(GER)\n",
    "    print(\"Average shortest path length:\", \"%3.4f\"%l)\n",
    "print('The predicted value is log(N)/log(average degree)', log(N)/log(av_degree))\n"
   ]
  },
  {
   "cell_type": "markdown",
   "metadata": {},
   "source": [
    "### p = 0.01"
   ]
  },
  {
   "cell_type": "code",
   "execution_count": 98,
   "metadata": {},
   "outputs": [],
   "source": [
    "\n",
    "p = 0.01 #probability of rewiring\n",
    "GWS = nx.watts_strogatz_graph(N, k, p, seed=None)\n"
   ]
  },
  {
   "cell_type": "code",
   "execution_count": 99,
   "metadata": {},
   "outputs": [
    {
     "name": "stdout",
     "output_type": "stream",
     "text": [
      "Average shortest path length: 8.8760\n",
      "The predicted value is log(N)/log(average degree) 3.3219280948873626\n"
     ]
    }
   ],
   "source": [
    "if nx.is_connected(GWS) == True:\n",
    "    l = nx.average_shortest_path_length(GWS)\n",
    "    print(\"Average shortest path length:\", \"%3.4f\"%l)\n",
    "else:\n",
    "    Gcc=sorted(nx.connected_component_subgraphs(GWS), key = len, reverse=True)\n",
    "    G=Gcc[0]\n",
    "    print('We will use only the largest component')\n",
    "    N = len(GWS)\n",
    "    M = G.number_of_edges()\n",
    "    print('Number of nodes:', N)\n",
    "    print('Number of edges:', M)\n",
    "    print('Average degre:', 2*M/N)\n",
    "    l = nx.average_shortest_path_length(GER)\n",
    "    print(\"Average shortest path length:\", \"%3.4f\"%l)\n",
    "print('The predicted value is log(N)/log(average degree)', log(N)/log(av_degree))\n"
   ]
  },
  {
   "cell_type": "markdown",
   "metadata": {},
   "source": [
    "### p = 0.05"
   ]
  },
  {
   "cell_type": "code",
   "execution_count": 100,
   "metadata": {},
   "outputs": [],
   "source": [
    "\n",
    "p = 0.05 #probability of rewiring\n",
    "GWS = nx.watts_strogatz_graph(N, k, p, seed=None)\n"
   ]
  },
  {
   "cell_type": "code",
   "execution_count": 101,
   "metadata": {},
   "outputs": [
    {
     "name": "stdout",
     "output_type": "stream",
     "text": [
      "Average shortest path length: 9.1477\n",
      "The predicted value is log(N)/log(average degree) 3.3219280948873626\n"
     ]
    }
   ],
   "source": [
    "if nx.is_connected(GWS) == True:\n",
    "    l = nx.average_shortest_path_length(GWS)\n",
    "    print(\"Average shortest path length:\", \"%3.4f\"%l)\n",
    "else:\n",
    "    Gcc=sorted(nx.connected_component_subgraphs(GWS), key = len, reverse=True)\n",
    "    G=Gcc[0]\n",
    "    print('We will use only the largest component')\n",
    "    N = len(GWS)\n",
    "    M = G.number_of_edges()\n",
    "    print('Number of nodes:', N)\n",
    "    print('Number of edges:', M)\n",
    "    print('Average degre:', 2*M/N)\n",
    "    l = nx.average_shortest_path_length(GER)\n",
    "    print(\"Average shortest path length:\", \"%3.4f\"%l)\n",
    "print('The predicted value is log(N)/log(average degree)', log(N)/log(av_degree))\n"
   ]
  },
  {
   "cell_type": "markdown",
   "metadata": {},
   "source": [
    "### p = 0.1"
   ]
  },
  {
   "cell_type": "code",
   "execution_count": 102,
   "metadata": {},
   "outputs": [],
   "source": [
    "\n",
    "p = 0.1 #probability of rewiring\n",
    "GWS = nx.watts_strogatz_graph(N, k, p, seed=None)\n"
   ]
  },
  {
   "cell_type": "code",
   "execution_count": 103,
   "metadata": {},
   "outputs": [
    {
     "name": "stdout",
     "output_type": "stream",
     "text": [
      "Average shortest path length: 4.6539\n",
      "The predicted value is log(N)/log(average degree) 3.3219280948873626\n"
     ]
    }
   ],
   "source": [
    "if nx.is_connected(GWS) == True:\n",
    "    l = nx.average_shortest_path_length(GWS)\n",
    "    print(\"Average shortest path length:\", \"%3.4f\"%l)\n",
    "else:\n",
    "    Gcc=sorted(nx.connected_component_subgraphs(GWS), key = len, reverse=True)\n",
    "    G=Gcc[0]\n",
    "    print('We will use only the largest component')\n",
    "    N = len(GWS)\n",
    "    M = G.number_of_edges()\n",
    "    print('Number of nodes:', N)\n",
    "    print('Number of edges:', M)\n",
    "    print('Average degre:', 2*M/N)\n",
    "    l = nx.average_shortest_path_length(GER)\n",
    "    print(\"Average shortest path length:\", \"%3.4f\"%l)\n",
    "print('The predicted value is log(N)/log(average degree)', log(N)/log(av_degree))\n"
   ]
  },
  {
   "cell_type": "markdown",
   "metadata": {},
   "source": [
    "Alternativa correta: **d**."
   ]
  },
  {
   "cell_type": "markdown",
   "metadata": {},
   "source": [
    "# Questão 5"
   ]
  },
  {
   "cell_type": "markdown",
   "metadata": {},
   "source": [
    "Redes Erdos-Reyni"
   ]
  },
  {
   "cell_type": "markdown",
   "metadata": {},
   "source": [
    "### Grau médio = 5."
   ]
  },
  {
   "cell_type": "code",
   "execution_count": 87,
   "metadata": {},
   "outputs": [],
   "source": [
    "N = 1000\n",
    "av_degree = 5\n",
    "p = av_degree / (N - 1)\n",
    "GER = nx.gnp_random_graph(N, p, seed=None, directed=False)"
   ]
  },
  {
   "cell_type": "code",
   "execution_count": 88,
   "metadata": {},
   "outputs": [
    {
     "name": "stdout",
     "output_type": "stream",
     "text": [
      "Assortativity =  0.0151\n"
     ]
    }
   ],
   "source": [
    "r=nx.degree_assortativity_coefficient(GER)\n",
    "print(\"Assortativity = \",\"%3.4f\"%r)"
   ]
  },
  {
   "cell_type": "markdown",
   "metadata": {},
   "source": [
    "### Grau médio = 10."
   ]
  },
  {
   "cell_type": "code",
   "execution_count": 89,
   "metadata": {},
   "outputs": [],
   "source": [
    "av_degree = 10\n",
    "p = av_degree / (N - 1)\n",
    "GER = nx.gnp_random_graph(N, p, seed=None, directed=False)"
   ]
  },
  {
   "cell_type": "code",
   "execution_count": 90,
   "metadata": {},
   "outputs": [
    {
     "name": "stdout",
     "output_type": "stream",
     "text": [
      "Assortativity =  0.0028\n"
     ]
    }
   ],
   "source": [
    "r=nx.degree_assortativity_coefficient(GER)\n",
    "print(\"Assortativity = \",\"%3.4f\"%r)"
   ]
  },
  {
   "cell_type": "markdown",
   "metadata": {},
   "source": [
    "### Grau médio = 50."
   ]
  },
  {
   "cell_type": "code",
   "execution_count": 91,
   "metadata": {},
   "outputs": [],
   "source": [
    "av_degree = 50\n",
    "p = av_degree / (N - 1)\n",
    "GER = nx.gnp_random_graph(N, p, seed=None, directed=False)"
   ]
  },
  {
   "cell_type": "code",
   "execution_count": 92,
   "metadata": {},
   "outputs": [
    {
     "name": "stdout",
     "output_type": "stream",
     "text": [
      "Assortativity =  0.0099\n"
     ]
    }
   ],
   "source": [
    "r=nx.degree_assortativity_coefficient(GER)\n",
    "print(\"Assortativity = \",\"%3.4f\"%r)"
   ]
  },
  {
   "cell_type": "markdown",
   "metadata": {},
   "source": [
    "Alternativa correta: **c**."
   ]
  }
 ],
 "metadata": {
  "kernelspec": {
   "display_name": "Python 3",
   "language": "python",
   "name": "python3"
  },
  "language_info": {
   "codemirror_mode": {
    "name": "ipython",
    "version": 3
   },
   "file_extension": ".py",
   "mimetype": "text/x-python",
   "name": "python",
   "nbconvert_exporter": "python",
   "pygments_lexer": "ipython3",
   "version": "3.8.5"
  }
 },
 "nbformat": 4,
 "nbformat_minor": 4
}
