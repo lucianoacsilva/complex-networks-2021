{
 "cells": [
  {
   "cell_type": "markdown",
   "metadata": {},
   "source": [
    "# Exercício 5 - SME0130 - Redes Complexas"
   ]
  },
  {
   "cell_type": "markdown",
   "metadata": {},
   "source": [
    "### Aluno: Luciano Augusto Campagnoli da Silva\n",
    "### Número USP: 9313367"
   ]
  },
  {
   "cell_type": "markdown",
   "metadata": {},
   "source": [
    "Importar bibliotecas."
   ]
  },
  {
   "cell_type": "code",
   "execution_count": 74,
   "metadata": {},
   "outputs": [],
   "source": [
    "from numpy  import *\n",
    "from scipy import stats\n",
    "import numpy as np\n",
    "import matplotlib.pyplot as plt\n",
    "import networkx as nx\n",
    "import community as community_louvain\n",
    "\n",
    "np.random.seed(100)"
   ]
  },
  {
   "cell_type": "markdown",
   "metadata": {},
   "source": [
    "## Questão 1"
   ]
  },
  {
   "cell_type": "markdown",
   "metadata": {},
   "source": [
    "Gerar grafo aleatório no modelo Barabási-Albert."
   ]
  },
  {
   "cell_type": "code",
   "execution_count": 75,
   "metadata": {},
   "outputs": [],
   "source": [
    "N = 1000\n",
    "av_degree = 8\n",
    "m = int(av_degree/2)\n",
    "GBA = nx.barabasi_albert_graph(N, m)"
   ]
  },
  {
   "cell_type": "markdown",
   "metadata": {},
   "source": [
    "Distribuição de grau."
   ]
  },
  {
   "cell_type": "code",
   "execution_count": 76,
   "metadata": {},
   "outputs": [],
   "source": [
    "def degree_distribution(GER):\n",
    "    vk = dict(GER.degree())\n",
    "    vk = list(vk.values()) # we get only the degree values\n",
    "    maxk = np.max(vk)\n",
    "    mink = np.min(min)\n",
    "    kvalues= arange(0,maxk+1) # possible values of k\n",
    "    Pk = np.zeros(maxk+1) # P(k)\n",
    "    for k in vk:\n",
    "        Pk[k] = Pk[k] + 1\n",
    "    Pk = Pk/sum(Pk) # the sum of the elements of P(k) must to be equal to one\n",
    "    return kvalues,Pk"
   ]
  },
  {
   "cell_type": "code",
   "execution_count": 77,
   "metadata": {},
   "outputs": [],
   "source": [
    "ks, Pk = degree_distribution(GBA)"
   ]
  },
  {
   "cell_type": "code",
   "execution_count": 78,
   "metadata": {},
   "outputs": [
    {
     "data": {
      "image/png": "[encoded data removed]",
      "text/plain": [
       "<Figure size 576x432 with 1 Axes>"
      ]
     },
     "metadata": {
      "needs_background": "light"
     },
     "output_type": "display_data"
    }
   ],
   "source": [
    "plt.figure(figsize=(8,6))\n",
    "plt.plot(ks,Pk,'bo', label='Data')\n",
    "plt.xlabel(\"k\", fontsize=20)\n",
    "plt.ylabel(\"P(k)\", fontsize=20)\n",
    "plt.title(\"Degree distribution\", fontsize=20)\n",
    "plt.grid(True)\n",
    "plt.savefig('degree_dist.eps') #save the figure into a file\n",
    "\n",
    "## Fitting of. binomial distribution\n",
    "from scipy.stats import binom\n",
    "pk = binom.pmf(ks, N, m)\n",
    "plt.plot(ks, pk, 'r', label='Binomial distribution')\n",
    "plt.legend()\n",
    "plt.show(True)"
   ]
  },
  {
   "cell_type": "markdown",
   "metadata": {},
   "source": [
    "Segundo momento de distribuição de grau."
   ]
  },
  {
   "cell_type": "code",
   "execution_count": 32,
   "metadata": {},
   "outputs": [],
   "source": [
    "def momment_of_degree_distribution(G,m):\n",
    "    k,Pk = degree_distribution(G)\n",
    "    M = sum((k**m)*Pk)\n",
    "    return M"
   ]
  },
  {
   "cell_type": "code",
   "execution_count": 33,
   "metadata": {},
   "outputs": [
    {
     "name": "stdout",
     "output_type": "stream",
     "text": [
      "Second momment of P(k): 134.556\n"
     ]
    }
   ],
   "source": [
    "k2 = momment_of_degree_distribution(GBA,2)\n",
    "print('Second momment of P(k):', k2)"
   ]
  },
  {
   "cell_type": "markdown",
   "metadata": {},
   "source": [
    "Coeficiente de aglomeração médio."
   ]
  },
  {
   "cell_type": "code",
   "execution_count": 34,
   "metadata": {},
   "outputs": [
    {
     "name": "stdout",
     "output_type": "stream",
     "text": [
      "Average clustering: 0.0337 |p =  4\n"
     ]
    }
   ],
   "source": [
    "avc = nx.average_clustering(GBA)\n",
    "print(\"Average clustering:\", \"%3.4f\"%avc, '|p = ', m)"
   ]
  },
  {
   "cell_type": "markdown",
   "metadata": {},
   "source": [
    "Alternativa correta: **b**."
   ]
  },
  {
   "cell_type": "markdown",
   "metadata": {},
   "source": [
    "## Questão 2"
   ]
  },
  {
   "cell_type": "markdown",
   "metadata": {},
   "source": [
    "Rede aleatória Erdos-Reyni."
   ]
  },
  {
   "cell_type": "code",
   "execution_count": 36,
   "metadata": {},
   "outputs": [],
   "source": [
    "N = 1000\n",
    "av_degree = 10\n",
    "p = av_degree/ (N - 1)\n",
    "\n",
    "GER = nx.gnp_random_graph(N, p, seed=None, directed=False)"
   ]
  },
  {
   "cell_type": "markdown",
   "metadata": {},
   "source": [
    "Rede aleatória Barabási-Albert."
   ]
  },
  {
   "cell_type": "code",
   "execution_count": 37,
   "metadata": {},
   "outputs": [],
   "source": [
    "N = 1000\n",
    "av_degree = 10\n",
    "m = int(av_degree/2)\n",
    "GBA = nx.barabasi_albert_graph(N, m)"
   ]
  },
  {
   "cell_type": "markdown",
   "metadata": {},
   "source": [
    "Entropia de Shannon."
   ]
  },
  {
   "cell_type": "code",
   "execution_count": 38,
   "metadata": {},
   "outputs": [],
   "source": [
    "def shannon_entropy(G):\n",
    "    k,Pk = degree_distribution(G)\n",
    "    H = 0\n",
    "    for p in Pk:\n",
    "        if(p > 0):\n",
    "            H = H - p*math.log(p, 2)\n",
    "    return H"
   ]
  },
  {
   "cell_type": "code",
   "execution_count": 39,
   "metadata": {},
   "outputs": [
    {
     "name": "stdout",
     "output_type": "stream",
     "text": [
      "Shannon Entropy ER =  3.6961\n"
     ]
    }
   ],
   "source": [
    "H = shannon_entropy(GER)\n",
    "print(\"Shannon Entropy ER = \", \"%3.4f\"%H)"
   ]
  },
  {
   "cell_type": "code",
   "execution_count": 40,
   "metadata": {},
   "outputs": [
    {
     "name": "stdout",
     "output_type": "stream",
     "text": [
      "Shannon Entropy BA =  3.5694\n"
     ]
    }
   ],
   "source": [
    "H = shannon_entropy(GBA)\n",
    "print(\"Shannon Entropy BA = \", \"%3.4f\"%H)"
   ]
  },
  {
   "cell_type": "markdown",
   "metadata": {},
   "source": [
    "Alternativa correta: **e**."
   ]
  },
  {
   "cell_type": "markdown",
   "metadata": {},
   "source": [
    "## Questões 3"
   ]
  },
  {
   "cell_type": "markdown",
   "metadata": {},
   "source": [
    "Rede Barabási-Albert."
   ]
  },
  {
   "cell_type": "code",
   "execution_count": 61,
   "metadata": {},
   "outputs": [],
   "source": [
    "N = 1000\n",
    "av_degree = 10\n",
    "m = int(av_degree/2)\n",
    "GBA = nx.barabasi_albert_graph(N, m)"
   ]
  },
  {
   "cell_type": "markdown",
   "metadata": {},
   "source": [
    "Grau dos vértices."
   ]
  },
  {
   "cell_type": "code",
   "execution_count": 62,
   "metadata": {},
   "outputs": [
    {
     "name": "stdout",
     "output_type": "stream",
     "text": [
      "Degree:  {0: 41, 1: 35, 2: 30, 3: 46, 4: 93, 5: 145, 6: 57, 7: 120, 8: 62, 9: 127, 10: 53, 11: 42, 12: 60, 13: 80, 14: 66, 15: 27, 16: 73, 17: 45, 18: 40, 19: 55, 20: 49, 21: 30, 22: 14, 23: 55, 24: 30, 25: 41, 26: 21, 27: 19, 28: 34, 29: 29, 30: 18, 31: 25, 32: 45, 33: 15, 34: 21, 35: 13, 36: 39, 37: 24, 38: 19, 39: 31, 40: 24, 41: 19, 42: 29, 43: 13, 44: 12, 45: 24, 46: 12, 47: 26, 48: 44, 49: 21, 50: 16, 51: 20, 52: 28, 53: 14, 54: 13, 55: 54, 56: 28, 57: 12, 58: 16, 59: 15, 60: 36, 61: 31, 62: 20, 63: 17, 64: 19, 65: 22, 66: 18, 67: 15, 68: 27, 69: 19, 70: 29, 71: 11, 72: 19, 73: 28, 74: 13, 75: 14, 76: 15, 77: 10, 78: 22, 79: 9, 80: 9, 81: 17, 82: 15, 83: 26, 84: 29, 85: 15, 86: 18, 87: 23, 88: 12, 89: 9, 90: 20, 91: 19, 92: 28, 93: 18, 94: 26, 95: 21, 96: 20, 97: 11, 98: 10, 99: 41, 100: 18, 101: 24, 102: 20, 103: 21, 104: 14, 105: 13, 106: 13, 107: 17, 108: 19, 109: 7, 110: 15, 111: 10, 112: 12, 113: 12, 114: 10, 115: 10, 116: 16, 117: 18, 118: 18, 119: 9, 120: 8, 121: 17, 122: 15, 123: 17, 124: 7, 125: 18, 126: 8, 127: 9, 128: 7, 129: 13, 130: 25, 131: 11, 132: 14, 133: 18, 134: 13, 135: 6, 136: 12, 137: 16, 138: 17, 139: 20, 140: 8, 141: 12, 142: 9, 143: 9, 144: 7, 145: 14, 146: 16, 147: 11, 148: 21, 149: 15, 150: 11, 151: 11, 152: 17, 153: 15, 154: 13, 155: 7, 156: 12, 157: 11, 158: 18, 159: 12, 160: 9, 161: 20, 162: 16, 163: 15, 164: 12, 165: 5, 166: 15, 167: 12, 168: 10, 169: 12, 170: 13, 171: 9, 172: 7, 173: 11, 174: 16, 175: 10, 176: 14, 177: 12, 178: 15, 179: 19, 180: 9, 181: 16, 182: 10, 183: 9, 184: 12, 185: 10, 186: 8, 187: 11, 188: 11, 189: 5, 190: 17, 191: 15, 192: 10, 193: 10, 194: 15, 195: 10, 196: 8, 197: 18, 198: 10, 199: 13, 200: 5, 201: 16, 202: 12, 203: 9, 204: 9, 205: 8, 206: 15, 207: 11, 208: 9, 209: 14, 210: 17, 211: 20, 212: 15, 213: 10, 214: 8, 215: 14, 216: 11, 217: 17, 218: 9, 219: 9, 220: 12, 221: 7, 222: 9, 223: 8, 224: 12, 225: 12, 226: 15, 227: 16, 228: 6, 229: 15, 230: 9, 231: 15, 232: 10, 233: 16, 234: 11, 235: 6, 236: 13, 237: 12, 238: 8, 239: 6, 240: 12, 241: 9, 242: 6, 243: 8, 244: 11, 245: 8, 246: 14, 247: 15, 248: 7, 249: 8, 250: 8, 251: 9, 252: 12, 253: 6, 254: 9, 255: 12, 256: 12, 257: 11, 258: 8, 259: 9, 260: 10, 261: 8, 262: 8, 263: 7, 264: 7, 265: 8, 266: 10, 267: 16, 268: 9, 269: 15, 270: 7, 271: 14, 272: 11, 273: 12, 274: 8, 275: 7, 276: 7, 277: 7, 278: 10, 279: 11, 280: 8, 281: 12, 282: 7, 283: 12, 284: 13, 285: 5, 286: 9, 287: 12, 288: 7, 289: 14, 290: 8, 291: 12, 292: 13, 293: 6, 294: 8, 295: 9, 296: 16, 297: 8, 298: 13, 299: 12, 300: 9, 301: 5, 302: 11, 303: 14, 304: 6, 305: 9, 306: 9, 307: 10, 308: 8, 309: 6, 310: 10, 311: 13, 312: 7, 313: 10, 314: 12, 315: 10, 316: 7, 317: 5, 318: 8, 319: 9, 320: 10, 321: 6, 322: 9, 323: 6, 324: 8, 325: 11, 326: 10, 327: 12, 328: 8, 329: 15, 330: 7, 331: 7, 332: 9, 333: 12, 334: 9, 335: 5, 336: 8, 337: 7, 338: 5, 339: 9, 340: 8, 341: 7, 342: 6, 343: 7, 344: 8, 345: 9, 346: 11, 347: 6, 348: 10, 349: 7, 350: 6, 351: 13, 352: 7, 353: 11, 354: 11, 355: 8, 356: 7, 357: 7, 358: 8, 359: 8, 360: 10, 361: 7, 362: 12, 363: 6, 364: 6, 365: 8, 366: 6, 367: 6, 368: 8, 369: 8, 370: 10, 371: 7, 372: 6, 373: 8, 374: 5, 375: 16, 376: 9, 377: 8, 378: 9, 379: 9, 380: 9, 381: 8, 382: 6, 383: 5, 384: 7, 385: 6, 386: 7, 387: 7, 388: 6, 389: 7, 390: 10, 391: 7, 392: 8, 393: 14, 394: 6, 395: 8, 396: 11, 397: 10, 398: 5, 399: 5, 400: 8, 401: 8, 402: 9, 403: 8, 404: 11, 405: 9, 406: 9, 407: 8, 408: 5, 409: 5, 410: 9, 411: 7, 412: 5, 413: 7, 414: 8, 415: 6, 416: 10, 417: 7, 418: 7, 419: 7, 420: 7, 421: 7, 422: 8, 423: 5, 424: 10, 425: 9, 426: 7, 427: 6, 428: 7, 429: 8, 430: 14, 431: 6, 432: 7, 433: 7, 434: 5, 435: 11, 436: 6, 437: 9, 438: 7, 439: 7, 440: 9, 441: 7, 442: 7, 443: 7, 444: 11, 445: 9, 446: 11, 447: 6, 448: 7, 449: 8, 450: 5, 451: 10, 452: 6, 453: 11, 454: 7, 455: 9, 456: 8, 457: 7, 458: 6, 459: 7, 460: 8, 461: 7, 462: 6, 463: 8, 464: 6, 465: 7, 466: 9, 467: 6, 468: 5, 469: 7, 470: 5, 471: 5, 472: 12, 473: 5, 474: 7, 475: 10, 476: 6, 477: 8, 478: 8, 479: 9, 480: 9, 481: 8, 482: 8, 483: 7, 484: 5, 485: 11, 486: 6, 487: 10, 488: 12, 489: 5, 490: 8, 491: 7, 492: 8, 493: 7, 494: 9, 495: 8, 496: 9, 497: 6, 498: 5, 499: 7, 500: 5, 501: 8, 502: 10, 503: 7, 504: 8, 505: 6, 506: 7, 507: 7, 508: 7, 509: 5, 510: 9, 511: 9, 512: 6, 513: 7, 514: 11, 515: 5, 516: 7, 517: 6, 518: 7, 519: 5, 520: 8, 521: 6, 522: 6, 523: 6, 524: 7, 525: 8, 526: 5, 527: 5, 528: 5, 529: 6, 530: 6, 531: 7, 532: 6, 533: 9, 534: 8, 535: 6, 536: 7, 537: 6, 538: 6, 539: 7, 540: 6, 541: 6, 542: 5, 543: 7, 544: 7, 545: 7, 546: 6, 547: 8, 548: 6, 549: 5, 550: 6, 551: 6, 552: 7, 553: 6, 554: 7, 555: 9, 556: 5, 557: 9, 558: 6, 559: 6, 560: 5, 561: 6, 562: 5, 563: 8, 564: 5, 565: 6, 566: 5, 567: 9, 568: 6, 569: 12, 570: 9, 571: 7, 572: 6, 573: 7, 574: 7, 575: 6, 576: 5, 577: 5, 578: 5, 579: 6, 580: 6, 581: 6, 582: 9, 583: 6, 584: 6, 585: 7, 586: 5, 587: 6, 588: 8, 589: 6, 590: 6, 591: 7, 592: 12, 593: 9, 594: 10, 595: 5, 596: 6, 597: 5, 598: 5, 599: 8, 600: 6, 601: 6, 602: 5, 603: 6, 604: 5, 605: 5, 606: 7, 607: 6, 608: 7, 609: 7, 610: 11, 611: 6, 612: 6, 613: 5, 614: 8, 615: 5, 616: 5, 617: 6, 618: 5, 619: 9, 620: 6, 621: 9, 622: 5, 623: 6, 624: 5, 625: 5, 626: 6, 627: 6, 628: 7, 629: 6, 630: 5, 631: 5, 632: 6, 633: 6, 634: 8, 635: 6, 636: 6, 637: 5, 638: 6, 639: 6, 640: 10, 641: 5, 642: 7, 643: 7, 644: 6, 645: 6, 646: 7, 647: 8, 648: 6, 649: 7, 650: 5, 651: 7, 652: 7, 653: 5, 654: 6, 655: 6, 656: 5, 657: 7, 658: 6, 659: 5, 660: 6, 661: 9, 662: 5, 663: 5, 664: 7, 665: 5, 666: 7, 667: 6, 668: 7, 669: 7, 670: 7, 671: 7, 672: 6, 673: 6, 674: 6, 675: 6, 676: 5, 677: 7, 678: 8, 679: 5, 680: 6, 681: 6, 682: 6, 683: 6, 684: 5, 685: 6, 686: 6, 687: 7, 688: 7, 689: 7, 690: 6, 691: 5, 692: 7, 693: 6, 694: 5, 695: 6, 696: 5, 697: 6, 698: 5, 699: 6, 700: 5, 701: 6, 702: 7, 703: 6, 704: 6, 705: 6, 706: 5, 707: 7, 708: 6, 709: 6, 710: 5, 711: 6, 712: 7, 713: 9, 714: 6, 715: 5, 716: 6, 717: 6, 718: 7, 719: 6, 720: 9, 721: 6, 722: 5, 723: 6, 724: 6, 725: 7, 726: 6, 727: 6, 728: 5, 729: 7, 730: 6, 731: 6, 732: 7, 733: 5, 734: 5, 735: 6, 736: 5, 737: 5, 738: 9, 739: 6, 740: 5, 741: 5, 742: 5, 743: 5, 744: 7, 745: 9, 746: 6, 747: 5, 748: 6, 749: 5, 750: 5, 751: 7, 752: 7, 753: 6, 754: 5, 755: 5, 756: 6, 757: 5, 758: 6, 759: 5, 760: 6, 761: 5, 762: 5, 763: 5, 764: 6, 765: 5, 766: 5, 767: 5, 768: 8, 769: 5, 770: 5, 771: 5, 772: 5, 773: 6, 774: 6, 775: 5, 776: 6, 777: 6, 778: 6, 779: 6, 780: 6, 781: 5, 782: 7, 783: 5, 784: 7, 785: 5, 786: 6, 787: 5, 788: 5, 789: 5, 790: 5, 791: 7, 792: 6, 793: 5, 794: 5, 795: 5, 796: 6, 797: 5, 798: 6, 799: 7, 800: 5, 801: 5, 802: 5, 803: 6, 804: 6, 805: 5, 806: 6, 807: 5, 808: 5, 809: 5, 810: 5, 811: 6, 812: 6, 813: 5, 814: 6, 815: 5, 816: 5, 817: 5, 818: 5, 819: 5, 820: 6, 821: 6, 822: 5, 823: 5, 824: 6, 825: 5, 826: 5, 827: 6, 828: 5, 829: 6, 830: 7, 831: 6, 832: 5, 833: 5, 834: 5, 835: 5, 836: 5, 837: 5, 838: 5, 839: 6, 840: 5, 841: 5, 842: 5, 843: 6, 844: 5, 845: 6, 846: 7, 847: 6, 848: 5, 849: 5, 850: 5, 851: 5, 852: 6, 853: 5, 854: 5, 855: 5, 856: 5, 857: 8, 858: 5, 859: 5, 860: 6, 861: 5, 862: 5, 863: 5, 864: 5, 865: 6, 866: 5, 867: 5, 868: 7, 869: 5, 870: 7, 871: 5, 872: 5, 873: 5, 874: 5, 875: 5, 876: 6, 877: 5, 878: 5, 879: 6, 880: 5, 881: 6, 882: 5, 883: 5, 884: 5, 885: 5, 886: 6, 887: 6, 888: 6, 889: 5, 890: 5, 891: 6, 892: 6, 893: 5, 894: 5, 895: 6, 896: 6, 897: 5, 898: 5, 899: 5, 900: 5, 901: 5, 902: 5, 903: 5, 904: 5, 905: 5, 906: 5, 907: 5, 908: 5, 909: 5, 910: 5, 911: 5, 912: 5, 913: 5, 914: 5, 915: 7, 916: 5, 917: 5, 918: 5, 919: 5, 920: 5, 921: 5, 922: 7, 923: 5, 924: 5, 925: 5, 926: 5, 927: 5, 928: 5, 929: 5, 930: 5, 931: 5, 932: 5, 933: 5, 934: 6, 935: 5, 936: 5, 937: 5, 938: 5, 939: 5, 940: 6, 941: 5, 942: 5, 943: 5, 944: 5, 945: 5, 946: 5, 947: 5, 948: 6, 949: 6, 950: 5, 951: 5, 952: 5, 953: 5, 954: 5, 955: 5, 956: 5, 957: 5, 958: 5, 959: 5, 960: 5, 961: 5, 962: 5, 963: 5, 964: 5, 965: 5, 966: 5, 967: 5, 968: 5, 969: 5, 970: 5, 971: 5, 972: 5, 973: 5, 974: 5, 975: 6, 976: 5, 977: 5, 978: 5, 979: 5, 980: 5, 981: 5, 982: 5, 983: 5, 984: 5, 985: 5, 986: 5, 987: 5, 988: 5, 989: 5, 990: 5, 991: 5, 992: 5, 993: 5, 994: 5, 995: 5, 996: 5, 997: 5, 998: 5, 999: 5}\n"
     ]
    }
   ],
   "source": [
    "degree = dict(nx.degree(GBA))\n",
    "print(\"Degree: \", degree)"
   ]
  },
  {
   "cell_type": "markdown",
   "metadata": {},
   "source": [
    "Centralidade de autovetor."
   ]
  },
  {
   "cell_type": "code",
   "execution_count": 63,
   "metadata": {},
   "outputs": [
    {
     "name": "stdout",
     "output_type": "stream",
     "text": [
      "Eigenvetor centrality: {0: 0.07773629241789257, 1: 0.06895630762471486, 2: 0.06947366646404089, 3: 0.09123833997501314, 4: 0.18349523872561185, 5: 0.3192552924083956, 6: 0.1494766154427826, 7: 0.2582013712524717, 8: 0.13655633728770628, 9: 0.27151829230584085, 10: 0.1298038789232071, 11: 0.09933021071762227, 12: 0.13510234685735117, 13: 0.1675116791212648, 14: 0.13120204299295946, 15: 0.0791781634210682, 16: 0.14830643862718806, 17: 0.09056759036728548, 18: 0.08469255244567352, 19: 0.11003105459606244, 20: 0.07328906850030407, 21: 0.060632210557647184, 22: 0.0506684780306424, 23: 0.10712636387256017, 24: 0.07343918665097869, 25: 0.0891935368334665, 26: 0.0616943475539151, 27: 0.0506210044132012, 28: 0.07817769458611058, 29: 0.07417917818239926, 30: 0.041021280335225334, 31: 0.04819711686981851, 32: 0.0684504483114302, 33: 0.038700981357902675, 34: 0.06814134645594673, 35: 0.049322188544229414, 36: 0.07854043668301915, 37: 0.05016791376168794, 38: 0.04127713067009841, 39: 0.061907748389642435, 40: 0.053173941886888475, 41: 0.0364293464429791, 42: 0.05434455444010625, 43: 0.04410971643069351, 44: 0.04763741138622896, 45: 0.05201782943481333, 46: 0.025574332679581487, 47: 0.05655570253429613, 48: 0.07094411856163321, 49: 0.039828036351613104, 50: 0.027148863407059232, 51: 0.0483302216310216, 52: 0.05314279381740316, 53: 0.056051107959460666, 54: 0.03489314962080197, 55: 0.07949660372730433, 56: 0.0521313156398226, 57: 0.03674676772337985, 58: 0.031797033013164604, 59: 0.030011065270227653, 60: 0.06214844401786235, 61: 0.07033234332910825, 62: 0.04449384509230573, 63: 0.043375540562393636, 64: 0.03290720342246121, 65: 0.04518205192245569, 66: 0.04178110340508824, 67: 0.04504361245889378, 68: 0.04870074403210307, 69: 0.04179878042104482, 70: 0.0424698297738017, 71: 0.03338669835558703, 72: 0.05734008229685195, 73: 0.041240363507446184, 74: 0.025234034608131367, 75: 0.024668821383666925, 76: 0.03818928244867991, 77: 0.018822446751828037, 78: 0.03161023255846847, 79: 0.022107838849276213, 80: 0.02965490659589046, 81: 0.02523016883642199, 82: 0.02457203301146502, 83: 0.054763345146359686, 84: 0.05455749512567471, 85: 0.04025034806035925, 86: 0.023201640172879977, 87: 0.04869981291715594, 88: 0.025566378272421673, 89: 0.03253985832115133, 90: 0.03842248234011363, 91: 0.04327748734113809, 92: 0.04990256317646093, 93: 0.04719404935006136, 94: 0.041215253872973354, 95: 0.053567969381184376, 96: 0.03893647927616079, 97: 0.021965599765065492, 98: 0.026083746619023667, 99: 0.05286464544133451, 100: 0.03900748689310796, 101: 0.041800916502095234, 102: 0.04406096545660282, 103: 0.03661248375611667, 104: 0.048584557122690594, 105: 0.02651680951631031, 106: 0.01542029799622742, 107: 0.02038358050144018, 108: 0.03772277826070994, 109: 0.03457641388107155, 110: 0.03593760564907989, 111: 0.022971390916623823, 112: 0.02262240813451026, 113: 0.040163982386251754, 114: 0.03091136691560825, 115: 0.014769903892813184, 116: 0.03393114395168579, 117: 0.03689897378465667, 118: 0.03094585442436707, 119: 0.023495858824888326, 120: 0.016632453622028486, 121: 0.03175840706450741, 122: 0.02703408946520151, 123: 0.02054850578169291, 124: 0.025445207654396885, 125: 0.031171153862385233, 126: 0.027100794979332064, 127: 0.02751251443949042, 128: 0.030291065452381014, 129: 0.023635975581942997, 130: 0.02992519133314567, 131: 0.01752283118406804, 132: 0.02852142420495202, 133: 0.03529988799131115, 134: 0.040868874268757405, 135: 0.019202122482836353, 136: 0.03349704456391984, 137: 0.029032962429178938, 138: 0.023341085364017702, 139: 0.024177780598223564, 140: 0.025851158944093403, 141: 0.03160986497775333, 142: 0.03614687532194634, 143: 0.04162658662459894, 144: 0.03019316539892831, 145: 0.033348030805918465, 146: 0.02676209991158409, 147: 0.015537609514895441, 148: 0.03257432601597139, 149: 0.017164258468028517, 150: 0.049354344645935196, 151: 0.025931978826370678, 152: 0.04215950823489958, 153: 0.021934080361845236, 154: 0.030176226493534634, 155: 0.012598206434782868, 156: 0.04042698090644708, 157: 0.03387215279426638, 158: 0.027055873151204113, 159: 0.017699948065222956, 160: 0.03561087133740863, 161: 0.04052820657244438, 162: 0.04966281036312629, 163: 0.020266706990228894, 164: 0.03657507311252017, 165: 0.03173969246261454, 166: 0.029572900837025153, 167: 0.018329486518250504, 168: 0.026304559528797018, 169: 0.015712207127966834, 170: 0.012313721655560312, 171: 0.02538044637233129, 172: 0.015258351273041973, 173: 0.022154434967874913, 174: 0.0295497725646107, 175: 0.03051169839485039, 176: 0.02120648019035399, 177: 0.02012651040828254, 178: 0.0371545995698548, 179: 0.03473427747644131, 180: 0.046420062652991964, 181: 0.03059858049116717, 182: 0.03170692579133059, 183: 0.02021554652478684, 184: 0.027181410090671806, 185: 0.013248371566963854, 186: 0.023271912563223602, 187: 0.02775098358647287, 188: 0.03236352411943085, 189: 0.01035813385217894, 190: 0.01641447352183735, 191: 0.042009279995011466, 192: 0.011042043456173375, 193: 0.03146732836550507, 194: 0.0414536684040321, 195: 0.021062671435626852, 196: 0.019434145345110246, 197: 0.029573362005655145, 198: 0.015112720710774786, 199: 0.023363829114447572, 200: 0.03208942103595052, 201: 0.018858663750880755, 202: 0.019621628627098476, 203: 0.025874845622806484, 204: 0.02596772027409502, 205: 0.045797169232656906, 206: 0.02085485877677416, 207: 0.01982900340444609, 208: 0.03168753542016736, 209: 0.027127959492555708, 210: 0.031061832065100006, 211: 0.03653428369117479, 212: 0.016824502671425066, 213: 0.030619341961547045, 214: 0.02950511561881506, 215: 0.019865402331320822, 216: 0.02511601828283829, 217: 0.01560021122463948, 218: 0.025169835114354635, 219: 0.025754469494903932, 220: 0.031658335051294034, 221: 0.01341265742059999, 222: 0.0317348259061682, 223: 0.03265906625653136, 224: 0.017674785994167757, 225: 0.02390079175345047, 226: 0.04509208246164649, 227: 0.03241479850012486, 228: 0.015443490257527568, 229: 0.028448512634143483, 230: 0.009307835250687325, 231: 0.019124136759985994, 232: 0.02597670564264124, 233: 0.03359614838116551, 234: 0.014320820609762816, 235: 0.02057200556233752, 236: 0.04045554496156401, 237: 0.018071334500779267, 238: 0.01204439788006633, 239: 0.016560575584401754, 240: 0.019159805999109915, 241: 0.014197674123854753, 242: 0.015550121692159009, 243: 0.011428584828432809, 244: 0.015461189801951509, 245: 0.015087473981171546, 246: 0.01911812809281215, 247: 0.026610187181648988, 248: 0.01645120887837341, 249: 0.01745133750849403, 250: 0.03622959026892277, 251: 0.013202179321084936, 252: 0.03201335724980741, 253: 0.030157734475903322, 254: 0.01280437209233987, 255: 0.026919777491638746, 256: 0.01783368338026586, 257: 0.027320300107771034, 258: 0.012158616062950028, 259: 0.028564373305021, 260: 0.014263795612100024, 261: 0.024938372903152855, 262: 0.0123403512247561, 263: 0.02130412039841913, 264: 0.013714357592460142, 265: 0.02229854864397289, 266: 0.02561881076059127, 267: 0.03442351835616054, 268: 0.026332829566345837, 269: 0.02749605635673211, 270: 0.019935815293202125, 271: 0.016746331056111383, 272: 0.02213527434821404, 273: 0.031030902871202824, 274: 0.01562842949232329, 275: 0.023592083582107327, 276: 0.007927084429970905, 277: 0.0094976298634046, 278: 0.020207181094337362, 279: 0.0212081677103548, 280: 0.011204213517158326, 281: 0.024231699688897337, 282: 0.012349028800099852, 283: 0.020998332269867536, 284: 0.04225400836312254, 285: 0.019872042740055034, 286: 0.01651033423307258, 287: 0.014297023281512293, 288: 0.016715829602271873, 289: 0.012760633592039152, 290: 0.015927036257767098, 291: 0.012896098370326233, 292: 0.027738471209762878, 293: 0.014402205951793328, 294: 0.018891569553093446, 295: 0.019377135714837766, 296: 0.01798656645226761, 297: 0.008774522516593783, 298: 0.020512268773045485, 299: 0.027122049328026743, 300: 0.02518971947599652, 301: 0.016024439742414184, 302: 0.028843230938354145, 303: 0.01789717673445535, 304: 0.01391010271476054, 305: 0.007740133457674807, 306: 0.019878206613600055, 307: 0.015052574299954557, 308: 0.01380828708098292, 309: 0.021075749616336438, 310: 0.010910806768155161, 311: 0.01218491193207474, 312: 0.03742682308120551, 313: 0.0188205345873161, 314: 0.028249174436294773, 315: 0.022281654430351967, 316: 0.014541637282297432, 317: 0.01202765009160256, 318: 0.01816454628906382, 319: 0.011455027410684897, 320: 0.015273868504232685, 321: 0.01100625843793142, 322: 0.029251849046112485, 323: 0.021803566377248312, 324: 0.02720674579388807, 325: 0.04746435773427221, 326: 0.009222701923796896, 327: 0.014812038963958333, 328: 0.027525215587583626, 329: 0.024424949080107738, 330: 0.013421422266027733, 331: 0.010719785233060579, 332: 0.0356444248173609, 333: 0.013994391801977554, 334: 0.02758415297149234, 335: 0.008924276826553978, 336: 0.01066302056828734, 337: 0.009074163218442623, 338: 0.033019382976161596, 339: 0.006940726530409737, 340: 0.02283799977798011, 341: 0.018212143113195398, 342: 0.017769285940227208, 343: 0.010631901162405616, 344: 0.015257878206771035, 345: 0.01164320729931369, 346: 0.013447580150324517, 347: 0.008528284593625314, 348: 0.013801626343314402, 349: 0.013693377612062532, 350: 0.01621971182233037, 351: 0.020131631674794377, 352: 0.015587281644962796, 353: 0.01885400068417151, 354: 0.026573201406073593, 355: 0.021501293980523913, 356: 0.013770926857150726, 357: 0.010212681006816835, 358: 0.03061314937941845, 359: 0.02306562997390803, 360: 0.02520574550992907, 361: 0.014310581376927737, 362: 0.01600293139258592, 363: 0.0326184826990093, 364: 0.015385581437231684, 365: 0.012123232836138536, 366: 0.018698956503925713, 367: 0.007512503352026662, 368: 0.01453330968028465, 369: 0.01097517305640492, 370: 0.009790076365305659, 371: 0.021956346771674986, 372: 0.013644585434816423, 373: 0.007151363221440187, 374: 0.011087832031807373, 375: 0.033521198458655185, 376: 0.03625728035360071, 377: 0.015668248145124575, 378: 0.01355379713479533, 379: 0.016046236496148267, 380: 0.010584920908647122, 381: 0.01894796138839758, 382: 0.021938427257156574, 383: 0.01635593941162454, 384: 0.024761689211876447, 385: 0.0166400189080693, 386: 0.012147028688160732, 387: 0.006895405779101478, 388: 0.013765948600311021, 389: 0.017713214324681984, 390: 0.020238185690369417, 391: 0.011956973098034528, 392: 0.015220449411599326, 393: 0.01912097349380613, 394: 0.018188902503220875, 395: 0.019536755299123642, 396: 0.011113754482333517, 397: 0.03313160837569553, 398: 0.014063108205351461, 399: 0.006269650900123683, 400: 0.025499512651538818, 401: 0.028062842092359857, 402: 0.01075715410853284, 403: 0.019185572432721246, 404: 0.017025734769282815, 405: 0.020962397082426882, 406: 0.0107063960211951, 407: 0.01804603361309731, 408: 0.02230175728346051, 409: 0.005404001792144371, 410: 0.02734239340326657, 411: 0.010526599053127335, 412: 0.012652260772739574, 413: 0.010178785336742083, 414: 0.004989170305987377, 415: 0.02446838388590597, 416: 0.019916940774714592, 417: 0.02086596228950423, 418: 0.0162409618757427, 419: 0.02204658298501221, 420: 0.010777282198767484, 421: 0.011768522520131072, 422: 0.035669580731729156, 423: 0.00873933558435701, 424: 0.018189701048056124, 425: 0.017748073309141094, 426: 0.014183134757248767, 427: 0.023899754706775234, 428: 0.007852902204115672, 429: 0.01227911489399609, 430: 0.01436992561409314, 431: 0.01041975122191934, 432: 0.013639078988390696, 433: 0.016269266504502614, 434: 0.014783294421442925, 435: 0.019852045215675577, 436: 0.008488807152489663, 437: 0.014783050797995134, 438: 0.016158416489954235, 439: 0.014384491293016723, 440: 0.009450491911488921, 441: 0.020213957784454728, 442: 0.008696839483616834, 443: 0.016961793130843058, 444: 0.03011382521722233, 445: 0.018073858102382958, 446: 0.013050490120636773, 447: 0.027339612993887288, 448: 0.012244088845693791, 449: 0.008286931323401595, 450: 0.01189122491136947, 451: 0.01705931606483929, 452: 0.021847733766260907, 453: 0.010464826178979382, 454: 0.01979066769761405, 455: 0.015802176053279184, 456: 0.016712816816873175, 457: 0.014224041703191052, 458: 0.01044550977093749, 459: 0.01845941715821106, 460: 0.010209368784187456, 461: 0.012286287194808773, 462: 0.009698162533388425, 463: 0.009086978120567553, 464: 0.008064784643317597, 465: 0.011045181754108109, 466: 0.010678822516026134, 467: 0.020846636781524413, 468: 0.014170500354817652, 469: 0.02000421412196272, 470: 0.014484417763568319, 471: 0.008070130973433013, 472: 0.019565599853865304, 473: 0.016461201377031675, 474: 0.013374579386279365, 475: 0.015441271295381044, 476: 0.01887442740300233, 477: 0.010226862156873498, 478: 0.029858333628646285, 479: 0.0114208204580291, 480: 0.03522508308077953, 481: 0.016055761688118623, 482: 0.023279281994385618, 483: 0.017465121994951545, 484: 0.010292656288792008, 485: 0.015443741428782807, 486: 0.010791725741963467, 487: 0.012853091883157716, 488: 0.014071629870288713, 489: 0.007921904603451206, 490: 0.012594898836153516, 491: 0.00820824726515601, 492: 0.014881704941042248, 493: 0.010272375684388674, 494: 0.010700608818319557, 495: 0.02535201278233973, 496: 0.02935966928971501, 497: 0.0207307702341898, 498: 0.010036946638704764, 499: 0.008398819246998927, 500: 0.014355322031797672, 501: 0.023457149446602862, 502: 0.010536456038663568, 503: 0.010486641392465645, 504: 0.03655298631313907, 505: 0.02613211506145128, 506: 0.009848205320218885, 507: 0.019791698448656535, 508: 0.0058342568169764426, 509: 0.006240090675959367, 510: 0.01381741044867854, 511: 0.012698286100378512, 512: 0.01605337774153511, 513: 0.010705295314488288, 514: 0.03273609658450618, 515: 0.006039769795923179, 516: 0.012767415811505863, 517: 0.02115141292464862, 518: 0.009173582266595861, 519: 0.011330802422630015, 520: 0.008846432776847194, 521: 0.011065960672363583, 522: 0.012144763451690471, 523: 0.013457688162367691, 524: 0.009419737997545304, 525: 0.00804973469004249, 526: 0.014503505844954955, 527: 0.007453425893316795, 528: 0.019351867440573742, 529: 0.01026140468362045, 530: 0.011628575510691836, 531: 0.008791171595216883, 532: 0.011174134962415611, 533: 0.01494891582597688, 534: 0.01212039895669034, 535: 0.008942441330528978, 536: 0.0072542464760625225, 537: 0.008466990918980528, 538: 0.008826860608947726, 539: 0.011531278704912369, 540: 0.01619757078527555, 541: 0.015563362752282995, 542: 0.019012933511728867, 543: 0.010871412035920536, 544: 0.016006166097465562, 545: 0.029566783181933093, 546: 0.00835395762023079, 547: 0.01648508899467778, 548: 0.015112442484084923, 549: 0.00899144064882871, 550: 0.022790872669688874, 551: 0.013524379558194487, 552: 0.018836387106349606, 553: 0.007003832489094567, 554: 0.011044567366999646, 555: 0.014766601416118755, 556: 0.014231935806960827, 557: 0.012820576238518844, 558: 0.024005992725756774, 559: 0.0070255888891746785, 560: 0.007422909466218837, 561: 0.01798961362253538, 562: 0.004122078815556326, 563: 0.017991319578880408, 564: 0.014384910385774148, 565: 0.006959423945068876, 566: 0.020766309722103825, 567: 0.008635422899189438, 568: 0.009874688567370823, 569: 0.028384963492588202, 570: 0.02126182768718463, 571: 0.020848820090969142, 572: 0.0097598312134624, 573: 0.019381410708330788, 574: 0.006119595125517047, 575: 0.022025249678987998, 576: 0.009053142074419894, 577: 0.03581447987227796, 578: 0.01548079358987013, 579: 0.03061500703882811, 580: 0.026506520400007613, 581: 0.008263226576035588, 582: 0.008975096625447357, 583: 0.007753135492874871, 584: 0.012012652322398386, 585: 0.009980156233679455, 586: 0.015099108751314852, 587: 0.00684970990438845, 588: 0.012824637495993902, 589: 0.008977330947987505, 590: 0.021193817694684463, 591: 0.006779295677245409, 592: 0.007507611170186208, 593: 0.00748846134976066, 594: 0.007682168614569529, 595: 0.02159477706800588, 596: 0.004513237554739531, 597: 0.012672961522329518, 598: 0.006224930426094066, 599: 0.013369448387064883, 600: 0.007157132867135695, 601: 0.022007609797632537, 602: 0.007679203964934969, 603: 0.013391242233498945, 604: 0.012646276647083985, 605: 0.006930368449495943, 606: 0.005977290189678965, 607: 0.03328442597845759, 608: 0.00857152536904945, 609: 0.010153859422598183, 610: 0.012295089554452628, 611: 0.02403234819201634, 612: 0.015687569928216294, 613: 0.009329929576692462, 614: 0.0142649158875377, 615: 0.011164376960624486, 616: 0.017330519140421857, 617: 0.01913345752591327, 618: 0.019583337574091527, 619: 0.008072517181306622, 620: 0.006383008347093514, 621: 0.007925644288284338, 622: 0.025721342080877552, 623: 0.007255193526713165, 624: 0.00931225618886305, 625: 0.02235355121929267, 626: 0.011657634471835925, 627: 0.022998649645133453, 628: 0.019797748285243947, 629: 0.010808142350178131, 630: 0.014249464923520387, 631: 0.007835295195610006, 632: 0.008479109692434964, 633: 0.007847691777685404, 634: 0.007718988096817704, 635: 0.030558097830222765, 636: 0.014805939403901595, 637: 0.021733560731095898, 638: 0.02984723068573293, 639: 0.007249943935328062, 640: 0.007592949811615759, 641: 0.01470164884876955, 642: 0.02244915959703984, 643: 0.009954697701255602, 644: 0.0065188184022486936, 645: 0.01465252592470025, 646: 0.020526553492397022, 647: 0.022689939668310406, 648: 0.01626437246854751, 649: 0.01745236161284591, 650: 0.012419767422372933, 651: 0.009882790859953762, 652: 0.014085698798165762, 653: 0.009768309441861333, 654: 0.01623487133696964, 655: 0.007117355082012287, 656: 0.017662907181262063, 657: 0.008442184501346891, 658: 0.007814295704473707, 659: 0.011147063653872273, 660: 0.007948689958297714, 661: 0.013276123637639532, 662: 0.016848091933037518, 663: 0.01034616824891914, 664: 0.022049633381194096, 665: 0.005354747327772827, 666: 0.020488203663693565, 667: 0.009025615746116676, 668: 0.010413879908876142, 669: 0.009245662061955666, 670: 0.024656869357234556, 671: 0.02602092330854533, 672: 0.0053607984598367355, 673: 0.01792547963479163, 674: 0.014015577536632502, 675: 0.005276483385673809, 676: 0.005781129982111259, 677: 0.008965835522773049, 678: 0.006648733526784223, 679: 0.01346513673817496, 680: 0.008501622638825848, 681: 0.006392256612353571, 682: 0.01383505537246022, 683: 0.00976517075986384, 684: 0.008614815660911027, 685: 0.006554449369933224, 686: 0.011607988209885059, 687: 0.021731541177791844, 688: 0.0230506831236352, 689: 0.013865787232755748, 690: 0.015359194672969386, 691: 0.014575975866554847, 692: 0.014645024878261215, 693: 0.003539211811293252, 694: 0.007387893262312998, 695: 0.011942943605159578, 696: 0.008584168023301387, 697: 0.00971227081047166, 698: 0.006246047323214708, 699: 0.016888915115437473, 700: 0.022367057802322652, 701: 0.007475300106522728, 702: 0.01083899462339066, 703: 0.010121029147308062, 704: 0.014877511725108882, 705: 0.0077110251665868206, 706: 0.012998386254548328, 707: 0.00752538627167392, 708: 0.010953252735968923, 709: 0.005637155835707739, 710: 0.016829129458146724, 711: 0.01111527006626266, 712: 0.020164051543708015, 713: 0.01963318350909143, 714: 0.006555677837464169, 715: 0.022911119292201937, 716: 0.0300672652712576, 717: 0.006964626956523091, 718: 0.016203512788720086, 719: 0.011612505744349024, 720: 0.012647752852705396, 721: 0.00814089828747851, 722: 0.010123378117838876, 723: 0.006211476329303362, 724: 0.014484253837077053, 725: 0.021106117657198782, 726: 0.011509545657828425, 727: 0.009995832264681514, 728: 0.01243583746379295, 729: 0.006534916642950661, 730: 0.029354666815482638, 731: 0.01786466950447609, 732: 0.005230705504192421, 733: 0.017455794751688236, 734: 0.02058407198944199, 735: 0.00970802798976872, 736: 0.006388753923105743, 737: 0.004555836778024375, 738: 0.022829806056254388, 739: 0.010150192640379665, 740: 0.010749158066973637, 741: 0.016200068548799126, 742: 0.03767849335966868, 743: 0.014538591645796052, 744: 0.02005751670076714, 745: 0.00894337497540791, 746: 0.022410041101826695, 747: 0.00759928951117327, 748: 0.007760730423738888, 749: 0.00815466351284424, 750: 0.025776818176817352, 751: 0.013707316308132331, 752: 0.02423957031991542, 753: 0.005390634798083436, 754: 0.007834307008719732, 755: 0.01270106261719375, 756: 0.023422857727900925, 757: 0.014163776480475272, 758: 0.021420049817846586, 759: 0.005218183866067551, 760: 0.01285127735188879, 761: 0.009065205805136763, 762: 0.009920620189772269, 763: 0.013205861969328568, 764: 0.00816382684139116, 765: 0.0037759928699897896, 766: 0.010725668533774775, 767: 0.0058045069805785195, 768: 0.006025613740881724, 769: 0.011900603357400662, 770: 0.006018564239636827, 771: 0.017253945517896413, 772: 0.009455369414627072, 773: 0.027178066286467042, 774: 0.008221784868828571, 775: 0.008687122835825078, 776: 0.011486312762548327, 777: 0.008209743948546643, 778: 0.014101236459966953, 779: 0.01893225938634157, 780: 0.004229854914602532, 781: 0.01685850071795581, 782: 0.00896538474081982, 783: 0.01093662881868434, 784: 0.005806600241373338, 785: 0.02057658964218185, 786: 0.01867002541700685, 787: 0.011843238354633563, 788: 0.016372596239410005, 789: 0.016784264041834446, 790: 0.01737522153487759, 791: 0.005787885524388656, 792: 0.0038717445728583453, 793: 0.016257549023694938, 794: 0.0050161353002584, 795: 0.007218419898190642, 796: 0.008003719141881166, 797: 0.018565829373326057, 798: 0.006075509603088926, 799: 0.013094653070141689, 800: 0.007902197746099252, 801: 0.022521388018741383, 802: 0.007691343323186213, 803: 0.004428508930156358, 804: 0.012112826487556055, 805: 0.020155053244702986, 806: 0.010895520578639859, 807: 0.006940522054279589, 808: 0.01081769121900216, 809: 0.021574909068358718, 810: 0.010099885101984849, 811: 0.0054652953222264905, 812: 0.015751444732092845, 813: 0.023101035027682654, 814: 0.019022560505771995, 815: 0.020462801265881292, 816: 0.028234286019380446, 817: 0.006683526989953822, 818: 0.00951227549415361, 819: 0.0077623630786072696, 820: 0.029868240247271603, 821: 0.006076529613801148, 822: 0.010779700989098591, 823: 0.013099022690975208, 824: 0.023069424370555876, 825: 0.008120756176881292, 826: 0.00716632805152468, 827: 0.022075586842726858, 828: 0.00583146988979655, 829: 0.006605051289553077, 830: 0.007959335321024557, 831: 0.006535555240850899, 832: 0.017306710329204895, 833: 0.006131015886710013, 834: 0.005987193511162861, 835: 0.008195512032961644, 836: 0.010968817218156252, 837: 0.003601273839073302, 838: 0.013385285080701362, 839: 0.007305539230744122, 840: 0.003983304815330595, 841: 0.01860752896475588, 842: 0.005770960264230189, 843: 0.028138807944156977, 844: 0.011179992729276514, 845: 0.008131936887190183, 846: 0.006794941550571291, 847: 0.010935495995767172, 848: 0.00939190854095755, 849: 0.00989726961645376, 850: 0.008718658796121681, 851: 0.0031862579206608237, 852: 0.008207367087338076, 853: 0.004955190788616632, 854: 0.007140667049435939, 855: 0.003804310679930928, 856: 0.010668735056278982, 857: 0.023306492514903344, 858: 0.012454942393442033, 859: 0.00900139387786356, 860: 0.015819127278636234, 861: 0.010959209496545818, 862: 0.019399424863539367, 863: 0.017268653388162452, 864: 0.006764693912696864, 865: 0.008321305112039244, 866: 0.007682370848851738, 867: 0.018153600930124154, 868: 0.026171278427089148, 869: 0.011895774141749088, 870: 0.021474346016864935, 871: 0.0072959505071581035, 872: 0.008003339917880877, 873: 0.004096794656661329, 874: 0.004451848749255563, 875: 0.004096778736389722, 876: 0.010214189152275179, 877: 0.009619183820232994, 878: 0.009963910472389282, 879: 0.0062322237036087184, 880: 0.01868140988957993, 881: 0.02009325023911402, 882: 0.007694839995948285, 883: 0.02194586447823277, 884: 0.019654398559556426, 885: 0.0059883891231391805, 886: 0.006297986035048718, 887: 0.009485555438688845, 888: 0.02013963732430042, 889: 0.0038475349995587505, 890: 0.004775070036473134, 891: 0.018889363378638297, 892: 0.019686846007189486, 893: 0.0068553025454144425, 894: 0.017555520574350676, 895: 0.005965213435261148, 896: 0.004900762678166953, 897: 0.008727349175571865, 898: 0.019047954224450932, 899: 0.009554658784446241, 900: 0.01434803817608485, 901: 0.006077805595362853, 902: 0.00486505372626331, 903: 0.007940750151901745, 904: 0.008927195543935864, 905: 0.010198597586414566, 906: 0.015032887810828066, 907: 0.014313651421609317, 908: 0.006114214125967242, 909: 0.018035606698452594, 910: 0.021160737166945293, 911: 0.006640231502487116, 912: 0.02551096137387349, 913: 0.009017920341966197, 914: 0.010628276049731841, 915: 0.00527378584740443, 916: 0.011026698652726895, 917: 0.010141819726207013, 918: 0.01686180849141053, 919: 0.02154156392391395, 920: 0.0052062427134467945, 921: 0.012986200987490287, 922: 0.006996616907128291, 923: 0.005955041379480123, 924: 0.005334196743704055, 925: 0.00474301201391115, 926: 0.004043017192597506, 927: 0.01281421897327144, 928: 0.0194572490994438, 929: 0.014394192892684952, 930: 0.007009026210213423, 931: 0.018136413771553287, 932: 0.005363726449821758, 933: 0.020679881694332262, 934: 0.009017787850716307, 935: 0.01977051507566697, 936: 0.006204262301006341, 937: 0.02184284252456556, 938: 0.01435109342182258, 939: 0.005371060330754659, 940: 0.013923850924506839, 941: 0.006312967759752344, 942: 0.019702105211264087, 943: 0.01791549789749018, 944: 0.017298698354239295, 945: 0.016608475325287662, 946: 0.009014693459906714, 947: 0.009486901178180351, 948: 0.013843727065564262, 949: 0.008248568524596238, 950: 0.005084223271095661, 951: 0.017074886234540346, 952: 0.010240935135787343, 953: 0.007767100798986731, 954: 0.0049920331238289045, 955: 0.0033771021761330243, 956: 0.02399506531389436, 957: 0.008206798337450255, 958: 0.0042287486314763765, 959: 0.012760199325640913, 960: 0.0037727885464073204, 961: 0.003539284467221871, 962: 0.009870488412006797, 963: 0.004659367013955649, 964: 0.02348001069361654, 965: 0.006056453073398259, 966: 0.007379328438333606, 967: 0.021102733180488407, 968: 0.01456321857061759, 969: 0.008358623236434543, 970: 0.022369104046755493, 971: 0.014228708938403306, 972: 0.011257344416946794, 973: 0.010661746582005204, 974: 0.00400336597082036, 975: 0.005062511870190252, 976: 0.013436502687566508, 977: 0.003502708863133235, 978: 0.00848234128930891, 979: 0.02392953368414946, 980: 0.011102668201800085, 981: 0.006023702856293523, 982: 0.004056045235475936, 983: 0.008136913211641162, 984: 0.01788140012820255, 985: 0.005952359274240963, 986: 0.005820219431802465, 987: 0.0065249557564621445, 988: 0.007898150807116144, 989: 0.006092233423543438, 990: 0.011852930355400556, 991: 0.005303522080412647, 992: 0.00616853002141697, 993: 0.015830475100812633, 994: 0.007536291053358096, 995: 0.018818006549530124, 996: 0.018748267359474616, 997: 0.014887317554121276, 998: 0.007681605751479501, 999: 0.006321961765036077}\n"
     ]
    }
   ],
   "source": [
    "EC = dict(nx.eigenvector_centrality(GBA, max_iter = 1000))\n",
    "print('Eigenvetor centrality:', EC)"
   ]
  },
  {
   "cell_type": "markdown",
   "metadata": {},
   "source": [
    "Coeficiente de correlação de Pearson."
   ]
  },
  {
   "cell_type": "code",
   "execution_count": 64,
   "metadata": {},
   "outputs": [
    {
     "name": "stdout",
     "output_type": "stream",
     "text": [
      "Pearson correlation:  0.93713684391832\n"
     ]
    }
   ],
   "source": [
    "degree_list = list(degree.values())\n",
    "EC_list = list(EC.values())\n",
    "\n",
    "# calculate Pearson's correlation\n",
    "corr, _ = stats.pearsonr(degree_list,EC_list)\n",
    "print(\"Pearson correlation: \", corr)"
   ]
  },
  {
   "cell_type": "markdown",
   "metadata": {},
   "source": [
    "Alternativa correta: **d**."
   ]
  },
  {
   "cell_type": "markdown",
   "metadata": {},
   "source": [
    "## Questão 4"
   ]
  },
  {
   "cell_type": "markdown",
   "metadata": {},
   "source": [
    "Rede Barabási-Albert."
   ]
  },
  {
   "cell_type": "code",
   "execution_count": 70,
   "metadata": {},
   "outputs": [],
   "source": [
    "N = 500\n",
    "av_degree = 10\n",
    "m = int(av_degree/2)\n",
    "GBA = nx.barabasi_albert_graph(N, m)"
   ]
  },
  {
   "cell_type": "markdown",
   "metadata": {},
   "source": [
    "Grau dos vértices."
   ]
  },
  {
   "cell_type": "code",
   "execution_count": 71,
   "metadata": {},
   "outputs": [
    {
     "name": "stdout",
     "output_type": "stream",
     "text": [
      "Degree:  {0: 17, 1: 36, 2: 28, 3: 13, 4: 29, 5: 65, 6: 98, 7: 73, 8: 45, 9: 32, 10: 48, 11: 17, 12: 45, 13: 69, 14: 28, 15: 29, 16: 23, 17: 44, 18: 29, 19: 27, 20: 25, 21: 30, 22: 45, 23: 19, 24: 15, 25: 17, 26: 19, 27: 15, 28: 30, 29: 10, 30: 24, 31: 24, 32: 17, 33: 16, 34: 19, 35: 22, 36: 22, 37: 23, 38: 35, 39: 18, 40: 19, 41: 30, 42: 23, 43: 19, 44: 17, 45: 12, 46: 18, 47: 14, 48: 12, 49: 11, 50: 11, 51: 16, 52: 22, 53: 19, 54: 11, 55: 21, 56: 8, 57: 8, 58: 23, 59: 21, 60: 16, 61: 33, 62: 10, 63: 13, 64: 16, 65: 21, 66: 11, 67: 19, 68: 19, 69: 17, 70: 13, 71: 26, 72: 8, 73: 15, 74: 8, 75: 13, 76: 13, 77: 20, 78: 12, 79: 12, 80: 18, 81: 19, 82: 10, 83: 16, 84: 10, 85: 9, 86: 7, 87: 8, 88: 10, 89: 8, 90: 13, 91: 19, 92: 13, 93: 9, 94: 7, 95: 11, 96: 11, 97: 20, 98: 18, 99: 13, 100: 10, 101: 16, 102: 11, 103: 10, 104: 9, 105: 7, 106: 8, 107: 9, 108: 7, 109: 9, 110: 7, 111: 9, 112: 14, 113: 15, 114: 7, 115: 10, 116: 9, 117: 12, 118: 8, 119: 5, 120: 10, 121: 15, 122: 22, 123: 12, 124: 9, 125: 12, 126: 8, 127: 9, 128: 5, 129: 10, 130: 7, 131: 8, 132: 11, 133: 9, 134: 11, 135: 10, 136: 10, 137: 9, 138: 8, 139: 11, 140: 6, 141: 7, 142: 10, 143: 9, 144: 5, 145: 7, 146: 7, 147: 13, 148: 10, 149: 13, 150: 7, 151: 10, 152: 9, 153: 10, 154: 12, 155: 10, 156: 5, 157: 11, 158: 9, 159: 9, 160: 8, 161: 6, 162: 8, 163: 11, 164: 8, 165: 10, 166: 7, 167: 5, 168: 7, 169: 10, 170: 13, 171: 11, 172: 6, 173: 12, 174: 6, 175: 5, 176: 10, 177: 10, 178: 10, 179: 13, 180: 7, 181: 14, 182: 9, 183: 10, 184: 10, 185: 9, 186: 11, 187: 10, 188: 7, 189: 7, 190: 7, 191: 5, 192: 7, 193: 11, 194: 7, 195: 7, 196: 10, 197: 7, 198: 6, 199: 10, 200: 6, 201: 7, 202: 9, 203: 8, 204: 8, 205: 6, 206: 8, 207: 6, 208: 5, 209: 7, 210: 8, 211: 9, 212: 8, 213: 9, 214: 10, 215: 7, 216: 7, 217: 7, 218: 9, 219: 7, 220: 6, 221: 7, 222: 6, 223: 7, 224: 7, 225: 8, 226: 7, 227: 9, 228: 9, 229: 15, 230: 7, 231: 9, 232: 7, 233: 11, 234: 6, 235: 9, 236: 9, 237: 7, 238: 7, 239: 7, 240: 8, 241: 7, 242: 8, 243: 7, 244: 7, 245: 6, 246: 8, 247: 8, 248: 11, 249: 7, 250: 9, 251: 11, 252: 7, 253: 6, 254: 6, 255: 6, 256: 7, 257: 6, 258: 7, 259: 8, 260: 5, 261: 10, 262: 8, 263: 6, 264: 8, 265: 12, 266: 7, 267: 6, 268: 11, 269: 8, 270: 8, 271: 7, 272: 12, 273: 7, 274: 6, 275: 5, 276: 6, 277: 6, 278: 5, 279: 8, 280: 9, 281: 5, 282: 8, 283: 10, 284: 8, 285: 8, 286: 7, 287: 6, 288: 8, 289: 6, 290: 6, 291: 8, 292: 8, 293: 8, 294: 5, 295: 6, 296: 8, 297: 7, 298: 6, 299: 5, 300: 9, 301: 5, 302: 10, 303: 7, 304: 7, 305: 7, 306: 5, 307: 5, 308: 7, 309: 5, 310: 5, 311: 6, 312: 6, 313: 6, 314: 7, 315: 5, 316: 8, 317: 5, 318: 5, 319: 7, 320: 6, 321: 8, 322: 5, 323: 7, 324: 5, 325: 5, 326: 7, 327: 5, 328: 7, 329: 5, 330: 8, 331: 6, 332: 6, 333: 7, 334: 5, 335: 8, 336: 6, 337: 7, 338: 5, 339: 5, 340: 6, 341: 5, 342: 6, 343: 7, 344: 5, 345: 6, 346: 5, 347: 9, 348: 7, 349: 6, 350: 8, 351: 7, 352: 6, 353: 5, 354: 6, 355: 6, 356: 7, 357: 5, 358: 5, 359: 6, 360: 6, 361: 10, 362: 5, 363: 5, 364: 6, 365: 7, 366: 5, 367: 5, 368: 6, 369: 7, 370: 5, 371: 5, 372: 7, 373: 5, 374: 5, 375: 5, 376: 5, 377: 6, 378: 6, 379: 6, 380: 5, 381: 8, 382: 6, 383: 5, 384: 5, 385: 6, 386: 6, 387: 5, 388: 5, 389: 7, 390: 5, 391: 6, 392: 5, 393: 6, 394: 5, 395: 6, 396: 6, 397: 6, 398: 6, 399: 5, 400: 5, 401: 6, 402: 5, 403: 5, 404: 5, 405: 5, 406: 6, 407: 5, 408: 6, 409: 6, 410: 5, 411: 5, 412: 6, 413: 7, 414: 5, 415: 7, 416: 7, 417: 5, 418: 7, 419: 6, 420: 5, 421: 6, 422: 6, 423: 5, 424: 5, 425: 5, 426: 5, 427: 5, 428: 5, 429: 5, 430: 5, 431: 6, 432: 5, 433: 5, 434: 5, 435: 5, 436: 6, 437: 5, 438: 5, 439: 5, 440: 6, 441: 5, 442: 6, 443: 5, 444: 5, 445: 6, 446: 5, 447: 5, 448: 5, 449: 5, 450: 5, 451: 5, 452: 5, 453: 5, 454: 5, 455: 5, 456: 5, 457: 5, 458: 5, 459: 5, 460: 5, 461: 5, 462: 5, 463: 6, 464: 5, 465: 6, 466: 5, 467: 5, 468: 6, 469: 5, 470: 5, 471: 5, 472: 7, 473: 6, 474: 7, 475: 5, 476: 5, 477: 5, 478: 5, 479: 5, 480: 5, 481: 5, 482: 5, 483: 5, 484: 5, 485: 5, 486: 5, 487: 5, 488: 5, 489: 5, 490: 5, 491: 5, 492: 5, 493: 5, 494: 5, 495: 5, 496: 5, 497: 5, 498: 5, 499: 5}\n"
     ]
    }
   ],
   "source": [
    "degree = dict(nx.degree(GBA))\n",
    "print(\"Degree: \", degree)"
   ]
  },
  {
   "cell_type": "markdown",
   "metadata": {},
   "source": [
    "Centralidade intersticial dos vértices."
   ]
  },
  {
   "cell_type": "code",
   "execution_count": 72,
   "metadata": {},
   "outputs": [
    {
     "name": "stdout",
     "output_type": "stream",
     "text": [
      "Betweeness centrality:  {0: 0.006274852707140657, 1: 0.027450186283339457, 2: 0.02112506787700962, 3: 0.004014408541385416, 4: 0.017943578420663926, 5: 0.07069425126873996, 6: 0.1418022397972977, 7: 0.08966175859014776, 8: 0.039959697345314744, 9: 0.022677150936778512, 10: 0.04223685693974711, 11: 0.006048624563958692, 12: 0.03976132446454575, 13: 0.07816310560790987, 14: 0.01751576870617847, 15: 0.018663661445689553, 16: 0.012924895139067706, 17: 0.038180100395799915, 18: 0.018327754388676468, 19: 0.015460222149643592, 20: 0.01299324503969802, 21: 0.022309272247906048, 22: 0.036204491274555065, 23: 0.007299821424887365, 24: 0.004416040424906463, 25: 0.0065794626358715615, 26: 0.009005622577670793, 27: 0.007211207402089918, 28: 0.020179454086305254, 29: 0.0012059942499077657, 30: 0.013557665762574478, 31: 0.01390860114537398, 32: 0.006717829557923819, 33: 0.004910122032243381, 34: 0.00894278903293485, 35: 0.008787013887546742, 36: 0.010107406117368876, 37: 0.00941839453253896, 38: 0.025586716714629046, 39: 0.006847432828080118, 40: 0.008744824650022773, 41: 0.01888106689376425, 42: 0.011179480613445984, 43: 0.008316984890787306, 44: 0.005929141081371127, 45: 0.002521029133151652, 46: 0.008777174543775376, 47: 0.003445123783706907, 48: 0.00292017938368491, 49: 0.0033744930420201037, 50: 0.002347473368515671, 51: 0.007002160304671363, 52: 0.010380746783050116, 53: 0.007174184768944203, 54: 0.0026894861048113584, 55: 0.00874258464644007, 56: 0.0013301051342069585, 57: 0.0010469499239075686, 58: 0.010604821710955257, 59: 0.010498748931193678, 60: 0.006387719400748155, 61: 0.019352184080439684, 62: 0.0036900159459465126, 63: 0.003636113562631896, 64: 0.0062037065714919196, 65: 0.01099017766284227, 66: 0.0023233650816285867, 67: 0.0069883584081763235, 68: 0.006299933945658921, 69: 0.0067012269302035, 70: 0.00346396446224489, 71: 0.016740450807571923, 72: 0.0013142314886423413, 73: 0.005771620162127955, 74: 0.0012526752331482908, 75: 0.004295348487214055, 76: 0.0038016903188130015, 77: 0.006807202315719703, 78: 0.0021460136130888943, 79: 0.0030133549296185425, 80: 0.00755152835612149, 81: 0.006580267312499168, 82: 0.0024601623431254414, 83: 0.004829174409086107, 84: 0.002239245596512457, 85: 0.0013166962492504005, 86: 0.0006652967059351133, 87: 0.0016216059971465731, 88: 0.0031487147304886643, 89: 0.0014879588091363982, 90: 0.005476425972165823, 91: 0.008564213420229337, 92: 0.0033398394131386017, 93: 0.0017856746581024537, 94: 0.0011762076533319559, 95: 0.003466007165391897, 96: 0.002919325536832511, 97: 0.006565462452491739, 98: 0.0076640809076564025, 99: 0.0043527412428617535, 100: 0.003232057396215251, 101: 0.0070705277710579936, 102: 0.0033528402011601685, 103: 0.0024515733947109166, 104: 0.0013940486762364505, 105: 0.000817071356719234, 106: 0.0017474332940187335, 107: 0.0014815729943279162, 108: 0.0008179882539595786, 109: 0.00346366317029983, 110: 0.0006670702760372577, 111: 0.0021055900857073293, 112: 0.0034959424475485726, 113: 0.005424170922991293, 114: 0.0009635818435106496, 115: 0.002127969669217176, 116: 0.0015697640396734754, 117: 0.003674472029060315, 118: 0.0009733616732149363, 119: 0.00035259886861116154, 120: 0.003165671987770597, 121: 0.006819875346597105, 122: 0.00835459967651409, 123: 0.0032994333151590114, 124: 0.0015635498474716823, 125: 0.003634791892716704, 126: 0.0009864090556065254, 127: 0.0019389774143356753, 128: 0.0003233687907135156, 129: 0.0018823586931057128, 130: 0.001324652838484394, 131: 0.001123190382422166, 132: 0.0033969223070410034, 133: 0.0021783772883100477, 134: 0.0020069577700213316, 135: 0.002368061814856496, 136: 0.0019203006004529692, 137: 0.0016117135924397221, 138: 0.0009378337120762658, 139: 0.004459359666830574, 140: 0.0004662397753272031, 141: 0.0008469647604888059, 142: 0.002792197378234218, 143: 0.003071956538918452, 144: 0.0003457679341747343, 145: 0.0010006099396185268, 146: 0.0012223160784909932, 147: 0.004023059411865526, 148: 0.003041846147339267, 149: 0.0034053139707940793, 150: 0.0008083064167389258, 151: 0.0018899228137047124, 152: 0.001549896417117076, 153: 0.0026781926498615576, 154: 0.0034386015247301477, 155: 0.00253019425106311, 156: 0.000301976924523747, 157: 0.0038789568915796953, 158: 0.0019220607730681067, 159: 0.002517151419158733, 160: 0.001158705541984177, 161: 0.0007578667407229002, 162: 0.001507496889452022, 163: 0.0030798080733118786, 164: 0.0016011306128219595, 165: 0.0034827685741842993, 166: 0.0012865659334190672, 167: 0.0002285085664059944, 168: 0.00118076700257161, 169: 0.002697618106208029, 170: 0.003918061936198127, 171: 0.0016614642097540222, 172: 0.0009281405619348823, 173: 0.0029984139423845494, 174: 0.0006852943669030577, 175: 0.0002165762342786123, 176: 0.003248748958654568, 177: 0.003836222519529271, 178: 0.00225434900217516, 179: 0.004621438513587093, 180: 0.0012092558928455599, 181: 0.003062492028768851, 182: 0.0016891213514699619, 183: 0.0020757815736007104, 184: 0.002857505528341989, 185: 0.0019607919295924537, 186: 0.0026919900871773803, 187: 0.002618979620377567, 188: 0.0012364555083064616, 189: 0.0011213441604227237, 190: 0.0009075624444813221, 191: 0.00029957198351390264, 192: 0.0008291154600396331, 193: 0.003006231117125012, 194: 0.0008797018953290084, 195: 0.0012063960318868603, 196: 0.0018732926175966864, 197: 0.0007904880264157733, 198: 0.00076617186282328, 199: 0.0028712699861175657, 200: 0.0006608976132013341, 201: 0.0016240964090218127, 202: 0.0014011337535464277, 203: 0.0015423891813539578, 204: 0.0019596772728306994, 205: 0.0006438075388997442, 206: 0.0010134784779347065, 207: 0.0007193237372989429, 208: 0.00024834013840926067, 209: 0.0008253964354643722, 210: 0.0017322760617964617, 211: 0.0017953275373062466, 212: 0.0012929634802219937, 213: 0.002272614069985446, 214: 0.0024240396447649977, 215: 0.0004873569133629149, 216: 0.001693953572300717, 217: 0.0012314860568276304, 218: 0.0022060240883609336, 219: 0.0008402175169098147, 220: 0.0005881374314644753, 221: 0.0012518859363378778, 222: 0.00039533746221704914, 223: 0.0008091686498126962, 224: 0.0005845992566626664, 225: 0.0017798466363343208, 226: 0.0009242610343923617, 227: 0.0022381833916048878, 228: 0.0019296374514037615, 229: 0.008559385891324484, 230: 0.0010170312319146549, 231: 0.002343533301949503, 232: 0.0012852110585860029, 233: 0.002942424327890808, 234: 0.0003868520086429319, 235: 0.0014653247534688137, 236: 0.0033340368229865577, 237: 0.000868006462872196, 238: 0.001300539394434758, 239: 0.0012583515026420972, 240: 0.0016030342809076757, 241: 0.000897467549956521, 242: 0.001700233795259012, 243: 0.000733386211204704, 244: 0.0008261282433876698, 245: 0.0006737155473988979, 246: 0.0012818269915323068, 247: 0.0015810681684202317, 248: 0.0025522494868459775, 249: 0.0014063642430742244, 250: 0.0018285253722076272, 251: 0.0027954339605863903, 252: 0.0008461148498913836, 253: 0.0006106640503038446, 254: 0.0007461410392549017, 255: 0.0005707225408284778, 256: 0.0012445573155349613, 257: 0.0010273002937802964, 258: 0.0010700806971317815, 259: 0.0008721435557651527, 260: 0.00037095482431365054, 261: 0.00192260881904625, 262: 0.001928935086519805, 263: 0.0007108320892160833, 264: 0.0016985772035546932, 265: 0.0027550129278741623, 266: 0.0007202478462680154, 267: 0.0005738194210114509, 268: 0.002278325109813944, 269: 0.0013608604822826966, 270: 0.0018120470282900392, 271: 0.0012876570821712967, 272: 0.0028195411170293277, 273: 0.0006316445611480925, 274: 0.0005170330718127246, 275: 0.000327480741853745, 276: 0.000770534018091508, 277: 0.0008406425121230402, 278: 0.00037444160763794185, 279: 0.0016894635933340735, 280: 0.0023696101714534242, 281: 0.0004726460783531386, 282: 0.0016879432231425644, 283: 0.003403112817206843, 284: 0.0013614454956948762, 285: 0.000996282764739926, 286: 0.0008896314413782264, 287: 0.0015813734390705348, 288: 0.0010529463890039112, 289: 0.0007171879654409184, 290: 0.0007138759191591735, 291: 0.0010940218976213756, 292: 0.0012869080268296314, 293: 0.002709102416465162, 294: 0.0005103783517328546, 295: 0.0008242698373549545, 296: 0.0009698474054262573, 297: 0.0010254003627216258, 298: 0.0012664090490817912, 299: 0.0003767736378818463, 300: 0.002097556923195096, 301: 0.0004442392093534658, 302: 0.002020363140000513, 303: 0.0011409586038084473, 304: 0.0010677686331954032, 305: 0.00096536592805878, 306: 0.00041700951778477066, 307: 0.00048497776311990395, 308: 0.0015218563394327049, 309: 0.0006082171583366835, 310: 0.00029319448713498007, 311: 0.00047766164733305575, 312: 0.0006501077174756261, 313: 0.0006075713431433127, 314: 0.0008087666606796592, 315: 0.0001916225202794997, 316: 0.0013819809650092978, 317: 0.0003846411733922011, 318: 0.0005479815341638319, 319: 0.0009368266299579998, 320: 0.0004112612536179145, 321: 0.0011468743224748838, 322: 0.00033472855884738835, 323: 0.0011794060099358664, 324: 0.000295111383250332, 325: 0.0002355739954821863, 326: 0.0015593981038752249, 327: 0.00041062506796643496, 328: 0.001213398019460989, 329: 0.00034637566887077615, 330: 0.001912638304643916, 331: 0.0008583573041972884, 332: 0.0006841191582797274, 333: 0.0009502856584194827, 334: 0.00048431310727638997, 335: 0.0012503961630556267, 336: 0.0004270368673182555, 337: 0.0017520508418733074, 338: 0.00028190887892802496, 339: 0.0005113965880450792, 340: 0.0007021632370669571, 341: 0.000326940694572814, 342: 0.00040814569120594486, 343: 0.0011547925883239843, 344: 0.0006320443104819113, 345: 0.0010874914075712846, 346: 0.0001940665228265049, 347: 0.0014548737852247023, 348: 0.0006271306009936509, 349: 0.0009421449615411293, 350: 0.001236379807076608, 351: 0.0007772848607281439, 352: 0.00100099343634211, 353: 0.0006919079816682091, 354: 0.0005569007663996877, 355: 0.0014075419849996654, 356: 0.0008013019095293328, 357: 0.0004405090054665207, 358: 0.0003710046125684341, 359: 0.0006896216555588829, 360: 0.0008831706828106325, 361: 0.005013562560820497, 362: 0.0006503004628446414, 363: 0.0006557177801544954, 364: 0.0004702208408976685, 365: 0.0006784521567719815, 366: 0.0002154346230335481, 367: 0.00029356546385068516, 368: 0.000971750997459037, 369: 0.0013577842534137187, 370: 0.0002572551520528586, 371: 0.00043408844144297306, 372: 0.0009390360079463269, 373: 0.00043269077871028035, 374: 0.00045091588872171414, 375: 0.00027921897892761797, 376: 0.0005023891391391182, 377: 0.0014812177063805603, 378: 0.00083598183845405, 379: 0.0007688214010720624, 380: 0.00025702573542797614, 381: 0.0009616699969076235, 382: 0.0008657628709939582, 383: 0.0004816749810304938, 384: 0.0006381868706901882, 385: 0.0008509574534716829, 386: 0.0008856382434524812, 387: 0.0001957896002620217, 388: 0.00027968407977851787, 389: 0.001453337248370937, 390: 0.0006239930223131015, 391: 0.0005895449268739588, 392: 0.0005401719045727999, 393: 0.0005953677702703303, 394: 0.0005127223106169592, 395: 0.0007215516722905401, 396: 0.0007039987991268534, 397: 0.0008977007705306216, 398: 0.0003867567353529718, 399: 0.00028084077890645716, 400: 0.00044659106564754646, 401: 0.0005477935241170433, 402: 0.00039435305461645536, 403: 0.000447353600649596, 404: 0.0009129193217890745, 405: 0.0004860215052664019, 406: 0.000654836451341538, 407: 0.0005056222975967737, 408: 0.0012375300514244872, 409: 0.000799725607983629, 410: 0.0003548844846589539, 411: 0.00038063142572704393, 412: 0.0004347306591483782, 413: 0.0011305375111191071, 414: 0.0006159208617367447, 415: 0.0013974678158548877, 416: 0.0005134871675056212, 417: 0.0004603673042298966, 418: 0.0008861430124150734, 419: 0.0016984049630082681, 420: 0.0005780863018991581, 421: 0.0006097816263823134, 422: 0.0006574129955559064, 423: 0.0005353431940864227, 424: 0.0003572022326592255, 425: 0.0003844864904006493, 426: 0.00038158745736356663, 427: 0.0005342090496193066, 428: 0.00043470033727502615, 429: 0.0003242081165579913, 430: 0.00047642391501195045, 431: 0.0005861206483858405, 432: 0.0004882015398287419, 433: 0.00034559354979871377, 434: 0.0004462157745042998, 435: 0.0008721889546776418, 436: 0.0008180890284000253, 437: 0.0006105150881679776, 438: 0.0003534877488051949, 439: 0.0004158347902133628, 440: 0.0008807632279288226, 441: 0.00032994533743948244, 442: 0.0008192756586759123, 443: 0.0004408513371976399, 444: 0.00044292845843595173, 445: 0.0007417393405053079, 446: 0.0006001617226361076, 447: 0.0005689003006663108, 448: 0.000334521948925386, 449: 0.000363654825275957, 450: 0.00038432573475294125, 451: 0.0008590808732956386, 452: 0.0004283220412076665, 453: 0.0005120896098856507, 454: 0.00045140679548172954, 455: 0.00035021315232814764, 456: 0.00043668741747371516, 457: 0.0005138019172312708, 458: 0.0004053798133860348, 459: 0.00024138140353242952, 460: 0.0005140015571296158, 461: 0.000642702464847753, 462: 0.0007171735163562699, 463: 0.0021684320717776204, 464: 0.0003912616373576962, 465: 0.0011571159794516632, 466: 0.0004537977270469228, 467: 0.0004001443942261244, 468: 0.00042138885962927176, 469: 0.00023959583141803232, 470: 0.00039205599428107966, 471: 0.0006306303890218231, 472: 0.0013594680527806312, 473: 0.001107665945556718, 474: 0.0005784237920264652, 475: 0.00040282285739669363, 476: 0.00044530921795836085, 477: 0.00021784556177055768, 478: 0.00035650518387689577, 479: 0.0006250359554657918, 480: 0.00033916849641492966, 481: 0.0004744144353249752, 482: 0.00022813403731536625, 483: 0.0005540303224093935, 484: 0.00038676615258577716, 485: 0.0003275047130597818, 486: 0.00035923596254109735, 487: 0.0006361041756287601, 488: 0.00040661968727492153, 489: 0.00050776857098897, 490: 0.000564797742386685, 491: 0.0003287839324569347, 492: 0.00037318529639331104, 493: 0.0004167760961500417, 494: 0.0005030414816067974, 495: 0.00043960969611399076, 496: 0.0002984288181492317, 497: 0.0004793026504732794, 498: 0.0005385349555605106, 499: 0.0006297941628237688}\n"
     ]
    }
   ],
   "source": [
    "BC = dict(nx.betweenness_centrality(GBA))\n",
    "print(\"Betweeness centrality: \", BC)"
   ]
  },
  {
   "cell_type": "markdown",
   "metadata": {},
   "source": [
    "Coeficiente de correlação de Pearson."
   ]
  },
  {
   "cell_type": "code",
   "execution_count": 73,
   "metadata": {},
   "outputs": [
    {
     "name": "stdout",
     "output_type": "stream",
     "text": [
      "Pearson correlation:  0.9449591058206543\n"
     ]
    }
   ],
   "source": [
    "degree_list = list(degree.values())\n",
    "BC_list = list(BC.values())\n",
    "\n",
    "# calculate Pearson's correlation\n",
    "corr, _ = stats.pearsonr(degree_list, BC_list)\n",
    "print(\"Pearson correlation: \", corr)"
   ]
  },
  {
   "cell_type": "markdown",
   "metadata": {},
   "source": [
    "Alternativa correta: **d**."
   ]
  },
  {
   "cell_type": "markdown",
   "metadata": {},
   "source": [
    "# Questão 5"
   ]
  },
  {
   "cell_type": "markdown",
   "metadata": {},
   "source": [
    "Rede feita segundo modelo de configuração."
   ]
  },
  {
   "cell_type": "code",
   "execution_count": 42,
   "metadata": {},
   "outputs": [
    {
     "data": {
      "image/png": "[encoded data removed]",
      "text/plain": [
       "<Figure size 432x288 with 1 Axes>"
      ]
     },
     "metadata": {},
     "output_type": "display_data"
    }
   ],
   "source": [
    "from random import randint\n",
    "np.random.seed(42)\n",
    "\n",
    "N = 500\n",
    "a = 3\n",
    "seq = np.random.zipf(a, N) #Zipf distribution\n",
    "\n",
    "#seq = np.random.poisson(10, N) #Poisson distribution\n",
    "\n",
    "#print(seq)\n",
    "\n",
    "if(sum(seq)%2 != 0): # the sum of stubs have to be even\n",
    "    pos = randint(0, len(seq))\n",
    "    seq[pos] = seq[pos]+ 1\n",
    "\n",
    "#print(sum(seq))\n",
    "G = nx.configuration_model(seq)\n",
    "\n",
    "#get the largest component\n",
    "Gcc = sorted(nx.connected_components(G), key=len, reverse=True)\n",
    "G = G.subgraph(Gcc[0])\n",
    "d = dict(G.degree())\n",
    "\n",
    "nx.draw(G, nodelist=d.keys(), node_size=[v * 5 for v in d.values()])\n",
    "plt.show()"
   ]
  },
  {
   "cell_type": "markdown",
   "metadata": {},
   "source": [
    "Segundo momento da distribuição de grau."
   ]
  },
  {
   "cell_type": "code",
   "execution_count": 43,
   "metadata": {},
   "outputs": [
    {
     "name": "stdout",
     "output_type": "stream",
     "text": [
      "Second momment of P(k): 12.392523364485982\n"
     ]
    }
   ],
   "source": [
    "k2 = momment_of_degree_distribution(G,2)\n",
    "print('Second momment of P(k):', k2)"
   ]
  },
  {
   "cell_type": "markdown",
   "metadata": {},
   "source": [
    "Alternativa correta: **b**."
   ]
  }
 ],
 "metadata": {
  "kernelspec": {
   "display_name": "Python 3",
   "language": "python",
   "name": "python3"
  },
  "language_info": {
   "codemirror_mode": {
    "name": "ipython",
    "version": 3
   },
   "file_extension": ".py",
   "mimetype": "text/x-python",
   "name": "python",
   "nbconvert_exporter": "python",
   "pygments_lexer": "ipython3",
   "version": "3.8.5"
  }
 },
 "nbformat": 4,
 "nbformat_minor": 4
}
